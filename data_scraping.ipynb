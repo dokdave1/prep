{
 "cells": [
  {
   "cell_type": "code",
   "execution_count": 1,
   "metadata": {},
   "outputs": [],
   "source": [
    "import pandas as pd\n",
    "import numpy as np"
   ]
  },
  {
   "cell_type": "code",
   "execution_count": 2,
   "metadata": {},
   "outputs": [],
   "source": [
    "from lxml import html\n",
    "import requests"
   ]
  },
  {
   "cell_type": "code",
   "execution_count": 3,
   "metadata": {},
   "outputs": [
    {
     "name": "stdout",
     "output_type": "stream",
     "text": [
      "50\n",
      "100\n",
      "150\n",
      "200\n",
      "250\n"
     ]
    }
   ],
   "source": [
    "main_list = []\n",
    "list_of_names = []\n",
    "\n",
    "for i in range(1,251):\n",
    "    page = requests.get('https://kolesa.kz/cars/?page=' + str(i))\n",
    "    tree = html.fromstring(page.content)\n",
    "    \n",
    "    s1 = tree.xpath('//span[@class=\"a-el-info-title\"]/a/@href')\n",
    "    s2 = tree.xpath('//a[@class=\"list-link ddl_product_link\"]/text()')\n",
    "    for j in s1:\n",
    "        main_list.append(j)\n",
    "    for j in s2:\n",
    "        list_of_names.append(j)\n",
    "    if i%50==0:\n",
    "        print(i)"
   ]
  },
  {
   "cell_type": "code",
   "execution_count": 4,
   "metadata": {},
   "outputs": [
    {
     "data": {
      "text/plain": [
       "['/a/show/43865599',\n",
       " '/a/show/40595130',\n",
       " '/a/show/47049673',\n",
       " '/a/show/85834690',\n",
       " '/a/show/86238597']"
      ]
     },
     "execution_count": 4,
     "metadata": {},
     "output_type": "execute_result"
    }
   ],
   "source": [
    "main_list[:5]"
   ]
  },
  {
   "cell_type": "code",
   "execution_count": 5,
   "metadata": {},
   "outputs": [
    {
     "data": {
      "text/plain": [
       "['Toyota Camry',\n",
       " 'Mercedes-Benz G 63 AMG',\n",
       " 'Toyota Corolla',\n",
       " 'Mercedes-Benz E 220',\n",
       " 'Mitsubishi Outlander']"
      ]
     },
     "execution_count": 5,
     "metadata": {},
     "output_type": "execute_result"
    }
   ],
   "source": [
    "list_of_names[:5]"
   ]
  },
  {
   "cell_type": "code",
   "execution_count": 6,
   "metadata": {},
   "outputs": [
    {
     "name": "stdout",
     "output_type": "stream",
     "text": [
      "5000\n",
      "5000\n"
     ]
    }
   ],
   "source": [
    "print(len(main_list))\n",
    "print(len(list_of_names))"
   ]
  },
  {
   "cell_type": "code",
   "execution_count": 7,
   "metadata": {},
   "outputs": [
    {
     "data": {
      "text/plain": [
       "'https://kolesa.kz/a/show/86428411'"
      ]
     },
     "execution_count": 7,
     "metadata": {},
     "output_type": "execute_result"
    }
   ],
   "source": [
    "main_list2 = ['https://kolesa.kz' + i for i in main_list]\n",
    "main_list2[4999]"
   ]
  },
  {
   "cell_type": "code",
   "execution_count": 8,
   "metadata": {},
   "outputs": [
    {
     "data": {
      "text/html": [
       "<div>\n",
       "<style scoped>\n",
       "    .dataframe tbody tr th:only-of-type {\n",
       "        vertical-align: middle;\n",
       "    }\n",
       "\n",
       "    .dataframe tbody tr th {\n",
       "        vertical-align: top;\n",
       "    }\n",
       "\n",
       "    .dataframe thead th {\n",
       "        text-align: right;\n",
       "    }\n",
       "</style>\n",
       "<table border=\"1\" class=\"dataframe\">\n",
       "  <thead>\n",
       "    <tr style=\"text-align: right;\">\n",
       "      <th></th>\n",
       "      <th>links</th>\n",
       "      <th>names</th>\n",
       "    </tr>\n",
       "  </thead>\n",
       "  <tbody>\n",
       "    <tr>\n",
       "      <th>0</th>\n",
       "      <td>https://kolesa.kz/a/show/43865599</td>\n",
       "      <td>Toyota Camry</td>\n",
       "    </tr>\n",
       "    <tr>\n",
       "      <th>1</th>\n",
       "      <td>https://kolesa.kz/a/show/40595130</td>\n",
       "      <td>Mercedes-Benz G 63 AMG</td>\n",
       "    </tr>\n",
       "    <tr>\n",
       "      <th>2</th>\n",
       "      <td>https://kolesa.kz/a/show/47049673</td>\n",
       "      <td>Toyota Corolla</td>\n",
       "    </tr>\n",
       "    <tr>\n",
       "      <th>3</th>\n",
       "      <td>https://kolesa.kz/a/show/85834690</td>\n",
       "      <td>Mercedes-Benz E 220</td>\n",
       "    </tr>\n",
       "    <tr>\n",
       "      <th>4</th>\n",
       "      <td>https://kolesa.kz/a/show/86238597</td>\n",
       "      <td>Mitsubishi Outlander</td>\n",
       "    </tr>\n",
       "  </tbody>\n",
       "</table>\n",
       "</div>"
      ],
      "text/plain": [
       "                               links                   names\n",
       "0  https://kolesa.kz/a/show/43865599            Toyota Camry\n",
       "1  https://kolesa.kz/a/show/40595130  Mercedes-Benz G 63 AMG\n",
       "2  https://kolesa.kz/a/show/47049673          Toyota Corolla\n",
       "3  https://kolesa.kz/a/show/85834690     Mercedes-Benz E 220\n",
       "4  https://kolesa.kz/a/show/86238597    Mitsubishi Outlander"
      ]
     },
     "execution_count": 8,
     "metadata": {},
     "output_type": "execute_result"
    }
   ],
   "source": [
    "df = {'links': main_list2, 'names': list_of_names}\n",
    "df = pd.DataFrame(df)\n",
    "df.head()"
   ]
  },
  {
   "cell_type": "code",
   "execution_count": 20,
   "metadata": {
    "scrolled": true
   },
   "outputs": [
    {
     "data": {
      "text/plain": [
       "'https://kolesa.kz/a/show/43865599'"
      ]
     },
     "execution_count": 20,
     "metadata": {},
     "output_type": "execute_result"
    }
   ],
   "source": [
    "df['links'][0]"
   ]
  },
  {
   "cell_type": "code",
   "execution_count": 37,
   "metadata": {},
   "outputs": [
    {
     "name": "stdout",
     "output_type": "stream",
     "text": [
      "500\n",
      "1000\n",
      "1500\n",
      "2000\n",
      "2500\n",
      "3000\n",
      "3500\n",
      "4000\n",
      "4500\n",
      "5000\n"
     ]
    }
   ],
   "source": [
    "dictionary_list = []\n",
    "d = []\n",
    "false_hrefs = []\n",
    "counter = 1\n",
    "for i in range(len(df['links'])):\n",
    "    page = requests.get(df['links'][i])\n",
    "    tree = html.fromstring(page.content)\n",
    "    \n",
    "    s1 = tree.xpath('//dt[@class=\"value-title\"]/span/text()')\n",
    "    s2 = tree.xpath('//dd[@class=\"value\"]/text()')\n",
    "    \n",
    "    dictionary = {}\n",
    "    \n",
    "    if len(s1) == len(s2):\n",
    "        for j in range(len(s1)):        \n",
    "            dictionary[s1[j]] = s2[j].strip()\n",
    "    else:\n",
    "        false_hrefs.append('https://kolesa.kz/' + i)\n",
    "        \n",
    "    dictionary_list.append(dictionary)\n",
    "    if counter%500==0:\n",
    "        print(counter)\n",
    "    counter += 1\n"
   ]
  },
  {
   "cell_type": "code",
   "execution_count": 38,
   "metadata": {},
   "outputs": [
    {
     "name": "stdout",
     "output_type": "stream",
     "text": [
      "5000\n",
      "[{'Кузов': 'седан', 'Цвет': 'синий металлик', 'Город': 'Уральск', 'Объем двигателя, л': '1.6 (бензин)', 'Коробка передач': 'механика', 'Руль': 'слева', 'Привод': 'передний привод', 'Растаможен': 'Да', 'Пробег': '90 500 км'}, {'Кузов': 'седан', 'Цвет': 'золотистый металлик', 'Город': 'Жаркент', 'Объем двигателя, л': '3 (бензин)', 'Коробка передач': 'автомат', 'Руль': 'слева', 'Растаможен': 'Да'}]\n"
     ]
    }
   ],
   "source": [
    "print(len(dictionary_list))\n",
    "print(dictionary_list[2000:2002])"
   ]
  },
  {
   "cell_type": "code",
   "execution_count": 47,
   "metadata": {},
   "outputs": [
    {
     "name": "stdout",
     "output_type": "stream",
     "text": [
      " 2018\n"
     ]
    }
   ],
   "source": [
    "page = requests.get(df['links'][0])\n",
    "tree = html.fromstring(page.content)\n",
    "\n",
    "s1 = tree.xpath('//div[@class=\"offer__price\"]/text()')\n",
    "\n",
    "s2 = tree.xpath('//span[@class=\"year\"]/text()')\n",
    "\n",
    "print(s2[0])"
   ]
  },
  {
   "cell_type": "code",
   "execution_count": 49,
   "metadata": {},
   "outputs": [
    {
     "name": "stdout",
     "output_type": "stream",
     "text": [
      "500\n",
      "1000\n",
      "1500\n",
      "2000\n",
      "2500\n",
      "3000\n",
      "3500\n",
      "4000\n",
      "4500\n",
      "5000\n"
     ]
    }
   ],
   "source": [
    "list_of_prices = []\n",
    "list_of_year = []\n",
    "\n",
    "c = 1\n",
    "\n",
    "for i in df['links']:\n",
    "    page = requests.get(i)\n",
    "    tree = html.fromstring(page.content)\n",
    "    \n",
    "    s1 = tree.xpath('//div[@class=\"offer__price\"]/text()')\n",
    "    s2 = tree.xpath('//span[@class=\"year\"]/text()')\n",
    "    \n",
    "    if len(s1)==0:\n",
    "        list_of_prices.append('')\n",
    "    else:\n",
    "        list_of_prices.append(s1[0].strip())\n",
    "    \n",
    "    if len(s2)==0:\n",
    "        list_of_year.append('')\n",
    "    else:\n",
    "        list_of_year.append(s2[0].strip())\n",
    "        \n",
    "    if c%500==0:\n",
    "        print(c)\n",
    "    c+=1"
   ]
  },
  {
   "cell_type": "code",
   "execution_count": 50,
   "metadata": {},
   "outputs": [
    {
     "name": "stdout",
     "output_type": "stream",
     "text": [
      "5000\n",
      "5000\n"
     ]
    }
   ],
   "source": [
    "print(len(list_of_prices))\n",
    "print(len(list_of_year))"
   ]
  },
  {
   "cell_type": "code",
   "execution_count": 51,
   "metadata": {},
   "outputs": [
    {
     "data": {
      "text/plain": [
       "{'VIN',\n",
       " 'Город',\n",
       " 'Коробка передач',\n",
       " 'Кузов',\n",
       " 'Объем двигателя, л',\n",
       " 'Привод',\n",
       " 'Пробег',\n",
       " 'Растаможен',\n",
       " 'Руль',\n",
       " 'Цвет'}"
      ]
     },
     "execution_count": 51,
     "metadata": {},
     "output_type": "execute_result"
    }
   ],
   "source": [
    "set_of_keys = []\n",
    "for i in dictionary_list:\n",
    "    for j in i.keys():\n",
    "        set_of_keys.append(j)\n",
    "\n",
    "set_of_keys = set(set_of_keys)\n",
    "set_of_keys"
   ]
  },
  {
   "cell_type": "code",
   "execution_count": 52,
   "metadata": {},
   "outputs": [
    {
     "data": {
      "text/plain": [
       "9"
      ]
     },
     "execution_count": 52,
     "metadata": {},
     "output_type": "execute_result"
    }
   ],
   "source": [
    "len(dictionary_list[0].keys())"
   ]
  },
  {
   "cell_type": "code",
   "execution_count": 53,
   "metadata": {},
   "outputs": [
    {
     "data": {
      "text/plain": [
       "5000"
      ]
     },
     "execution_count": 53,
     "metadata": {},
     "output_type": "execute_result"
    }
   ],
   "source": [
    "len(dictionary_list)"
   ]
  },
  {
   "cell_type": "code",
   "execution_count": 54,
   "metadata": {},
   "outputs": [
    {
     "data": {
      "text/plain": [
       "2"
      ]
     },
     "execution_count": 54,
     "metadata": {},
     "output_type": "execute_result"
    }
   ],
   "source": [
    "counter = 0\n",
    "for i in range(len(dictionary_list)):\n",
    "    if len(dictionary_list[i].keys()) == 0:\n",
    "        counter +=1\n",
    "counter"
   ]
  },
  {
   "cell_type": "code",
   "execution_count": 55,
   "metadata": {},
   "outputs": [],
   "source": [
    "list_of_names = list_of_names[:5000]\n",
    "for i in range(len(dictionary_list)-1,-1,-1):\n",
    "    if len(dictionary_list[i].keys()) == 0:\n",
    "        list_of_names.pop(i)\n",
    "        list_of_year.pop(i)\n",
    "        list_of_prices.pop(i)"
   ]
  },
  {
   "cell_type": "code",
   "execution_count": 56,
   "metadata": {},
   "outputs": [
    {
     "name": "stdout",
     "output_type": "stream",
     "text": [
      "4998\n",
      "4998\n",
      "4998\n"
     ]
    }
   ],
   "source": [
    "print(len(list_of_names))\n",
    "print(len(list_of_year))\n",
    "print(len(list_of_prices))"
   ]
  },
  {
   "cell_type": "code",
   "execution_count": 57,
   "metadata": {},
   "outputs": [
    {
     "data": {
      "text/plain": [
       "4998"
      ]
     },
     "execution_count": 57,
     "metadata": {},
     "output_type": "execute_result"
    }
   ],
   "source": [
    "5000-2"
   ]
  },
  {
   "cell_type": "code",
   "execution_count": 58,
   "metadata": {},
   "outputs": [],
   "source": [
    "for i in range(4999,-1,-1):\n",
    "    if len(dictionary_list[i].keys()) == 0:\n",
    "        dictionary_list.pop(i)"
   ]
  },
  {
   "cell_type": "code",
   "execution_count": 59,
   "metadata": {},
   "outputs": [
    {
     "data": {
      "text/plain": [
       "4998"
      ]
     },
     "execution_count": 59,
     "metadata": {},
     "output_type": "execute_result"
    }
   ],
   "source": [
    "len(dictionary_list)"
   ]
  },
  {
   "cell_type": "code",
   "execution_count": 60,
   "metadata": {},
   "outputs": [
    {
     "name": "stdout",
     "output_type": "stream",
     "text": [
      "Кузов\n",
      "Цвет\n",
      "Город\n",
      "Руль\n",
      "Растаможен\n",
      "Коробка передач\n",
      "VIN\n",
      "Пробег\n",
      "Объем двигателя, л\n",
      "Привод\n"
     ]
    }
   ],
   "source": [
    "for i in range(len(list(set_of_keys))):\n",
    "    print(list(set_of_keys)[i])"
   ]
  },
  {
   "cell_type": "code",
   "execution_count": 61,
   "metadata": {},
   "outputs": [],
   "source": [
    "list1_from_dictionary = []\n",
    "list2_from_dictionary = []\n",
    "list3_from_dictionary = []\n",
    "list4_from_dictionary = []\n",
    "list5_from_dictionary = []\n",
    "list6_from_dictionary = []\n",
    "list7_from_dictionary = []\n",
    "list8_from_dictionary = []\n",
    "list9_from_dictionary = []\n",
    "list10_from_dictionary = []\n",
    "\n",
    "for i in range(len(dictionary_list)):\n",
    "    if list(set_of_keys)[0] in dictionary_list[i].keys():\n",
    "        list1_from_dictionary.append(dictionary_list[i][list(set_of_keys)[0]])\n",
    "    else:\n",
    "        list1_from_dictionary.append('')\n",
    "    if list(set_of_keys)[1] in dictionary_list[i].keys():\n",
    "        list2_from_dictionary.append(dictionary_list[i][list(set_of_keys)[1]])\n",
    "    else:\n",
    "        list2_from_dictionary.append('')\n",
    "    if list(set_of_keys)[2] in dictionary_list[i].keys():\n",
    "        list3_from_dictionary.append(dictionary_list[i][list(set_of_keys)[2]])\n",
    "    else:\n",
    "        list3_from_dictionary.append('')\n",
    "    if list(set_of_keys)[3] in dictionary_list[i].keys():\n",
    "        list4_from_dictionary.append(dictionary_list[i][list(set_of_keys)[3]])\n",
    "    else:\n",
    "        list4_from_dictionary.append('')\n",
    "    if list(set_of_keys)[4] in dictionary_list[i].keys():\n",
    "        list5_from_dictionary.append(dictionary_list[i][list(set_of_keys)[4]])\n",
    "    else:\n",
    "        list5_from_dictionary.append('')\n",
    "    if list(set_of_keys)[5] in dictionary_list[i].keys():\n",
    "        list6_from_dictionary.append(dictionary_list[i][list(set_of_keys)[5]])\n",
    "    else:\n",
    "        list6_from_dictionary.append('')\n",
    "    if list(set_of_keys)[6] in dictionary_list[i].keys():\n",
    "        list7_from_dictionary.append(dictionary_list[i][list(set_of_keys)[6]])\n",
    "    else:\n",
    "        list7_from_dictionary.append('')\n",
    "    if list(set_of_keys)[7] in dictionary_list[i].keys():\n",
    "        list8_from_dictionary.append(dictionary_list[i][list(set_of_keys)[7]])\n",
    "    else:\n",
    "        list8_from_dictionary.append('')\n",
    "    if list(set_of_keys)[8] in dictionary_list[i].keys():\n",
    "        list9_from_dictionary.append(dictionary_list[i][list(set_of_keys)[8]])\n",
    "    else:\n",
    "        list9_from_dictionary.append('')\n",
    "    if list(set_of_keys)[9] in dictionary_list[i].keys():\n",
    "        list10_from_dictionary.append(dictionary_list[i][list(set_of_keys)[9]])\n",
    "    else:\n",
    "        list10_from_dictionary.append('')"
   ]
  },
  {
   "cell_type": "code",
   "execution_count": 62,
   "metadata": {},
   "outputs": [
    {
     "name": "stdout",
     "output_type": "stream",
     "text": [
      "4998\n",
      "4998\n",
      "4998\n",
      "4998\n",
      "4998\n",
      "4998\n",
      "4998\n",
      "4998\n",
      "4998\n",
      "4998\n"
     ]
    }
   ],
   "source": [
    "print(len(list1_from_dictionary))\n",
    "print(len(list2_from_dictionary))\n",
    "print(len(list3_from_dictionary))\n",
    "print(len(list4_from_dictionary))\n",
    "print(len(list5_from_dictionary))\n",
    "print(len(list6_from_dictionary))\n",
    "print(len(list7_from_dictionary))\n",
    "print(len(list8_from_dictionary))\n",
    "print(len(list9_from_dictionary))\n",
    "print(len(list10_from_dictionary))"
   ]
  },
  {
   "cell_type": "code",
   "execution_count": 63,
   "metadata": {},
   "outputs": [],
   "source": [
    "list_from_dictionary = [list1_from_dictionary,\n",
    "                        list2_from_dictionary,\n",
    "                        list3_from_dictionary,\n",
    "                        list4_from_dictionary,\n",
    "                        list5_from_dictionary,\n",
    "                        list6_from_dictionary,\n",
    "                        list7_from_dictionary,\n",
    "                        list8_from_dictionary,\n",
    "                        list9_from_dictionary,\n",
    "                        list10_from_dictionary, \n",
    "                        list_of_year,\n",
    "                        list_of_prices]"
   ]
  },
  {
   "cell_type": "code",
   "execution_count": 64,
   "metadata": {},
   "outputs": [],
   "source": [
    "dictionary_big = {}\n",
    "for i in range(len(list(set_of_keys))):\n",
    "    dictionary_big[list(set_of_keys)[i]] = list_from_dictionary[i]"
   ]
  },
  {
   "cell_type": "code",
   "execution_count": 65,
   "metadata": {},
   "outputs": [],
   "source": [
    "dictionary_big['Year'] = list_from_dictionary[10]\n",
    "dictionary_big['Price'] = list_from_dictionary[11]"
   ]
  },
  {
   "cell_type": "code",
   "execution_count": 66,
   "metadata": {},
   "outputs": [
    {
     "data": {
      "text/html": [
       "<div>\n",
       "<style scoped>\n",
       "    .dataframe tbody tr th:only-of-type {\n",
       "        vertical-align: middle;\n",
       "    }\n",
       "\n",
       "    .dataframe tbody tr th {\n",
       "        vertical-align: top;\n",
       "    }\n",
       "\n",
       "    .dataframe thead th {\n",
       "        text-align: right;\n",
       "    }\n",
       "</style>\n",
       "<table border=\"1\" class=\"dataframe\">\n",
       "  <thead>\n",
       "    <tr style=\"text-align: right;\">\n",
       "      <th></th>\n",
       "      <th>Price</th>\n",
       "      <th>VIN</th>\n",
       "      <th>Year</th>\n",
       "      <th>Город</th>\n",
       "      <th>Коробка передач</th>\n",
       "      <th>Кузов</th>\n",
       "      <th>Объем двигателя, л</th>\n",
       "      <th>Привод</th>\n",
       "      <th>Пробег</th>\n",
       "      <th>Растаможен</th>\n",
       "      <th>Руль</th>\n",
       "      <th>Цвет</th>\n",
       "    </tr>\n",
       "  </thead>\n",
       "  <tbody>\n",
       "    <tr>\n",
       "      <th>0</th>\n",
       "      <td>13 800 000</td>\n",
       "      <td></td>\n",
       "      <td>2018</td>\n",
       "      <td>Алматы</td>\n",
       "      <td>автомат</td>\n",
       "      <td>седан</td>\n",
       "      <td>2.5 (бензин)</td>\n",
       "      <td>передний привод</td>\n",
       "      <td>1 км</td>\n",
       "      <td>Да</td>\n",
       "      <td>слева</td>\n",
       "      <td>серебристый металлик</td>\n",
       "    </tr>\n",
       "    <tr>\n",
       "      <th>1</th>\n",
       "      <td>68 000 000</td>\n",
       "      <td></td>\n",
       "      <td>2014</td>\n",
       "      <td>Алматы</td>\n",
       "      <td>автомат</td>\n",
       "      <td>внедорожник</td>\n",
       "      <td>5.5 (бензин)</td>\n",
       "      <td></td>\n",
       "      <td>10 300 км</td>\n",
       "      <td>Да</td>\n",
       "      <td>слева</td>\n",
       "      <td>черный</td>\n",
       "    </tr>\n",
       "    <tr>\n",
       "      <th>2</th>\n",
       "      <td>5 499 999</td>\n",
       "      <td></td>\n",
       "      <td>2013</td>\n",
       "      <td>Алматы</td>\n",
       "      <td>автомат</td>\n",
       "      <td>седан</td>\n",
       "      <td>1.6 (бензин)</td>\n",
       "      <td>передний привод</td>\n",
       "      <td>39 258 км</td>\n",
       "      <td>Да</td>\n",
       "      <td>слева</td>\n",
       "      <td>серый металлик</td>\n",
       "    </tr>\n",
       "    <tr>\n",
       "      <th>3</th>\n",
       "      <td>1 850 000</td>\n",
       "      <td></td>\n",
       "      <td>1993</td>\n",
       "      <td>Шымкент</td>\n",
       "      <td>автомат</td>\n",
       "      <td>седан</td>\n",
       "      <td>2.2 (газ-бензин)</td>\n",
       "      <td>задний привод</td>\n",
       "      <td></td>\n",
       "      <td>Да</td>\n",
       "      <td>слева</td>\n",
       "      <td>серый металлик</td>\n",
       "    </tr>\n",
       "    <tr>\n",
       "      <th>4</th>\n",
       "      <td>6 100 000</td>\n",
       "      <td></td>\n",
       "      <td>2013</td>\n",
       "      <td>Актобе</td>\n",
       "      <td>автомат</td>\n",
       "      <td>кроссовер</td>\n",
       "      <td>2.4 (бензин)</td>\n",
       "      <td>полный привод</td>\n",
       "      <td>60 000 км</td>\n",
       "      <td>Да</td>\n",
       "      <td>слева</td>\n",
       "      <td>серый</td>\n",
       "    </tr>\n",
       "  </tbody>\n",
       "</table>\n",
       "</div>"
      ],
      "text/plain": [
       "        Price VIN  Year    Город Коробка передач        Кузов  \\\n",
       "0  13 800 000      2018   Алматы         автомат        седан   \n",
       "1  68 000 000      2014   Алматы         автомат  внедорожник   \n",
       "2   5 499 999      2013   Алматы         автомат        седан   \n",
       "3   1 850 000      1993  Шымкент         автомат        седан   \n",
       "4   6 100 000      2013   Актобе         автомат    кроссовер   \n",
       "\n",
       "  Объем двигателя, л           Привод     Пробег Растаможен   Руль  \\\n",
       "0       2.5 (бензин)  передний привод       1 км         Да  слева   \n",
       "1       5.5 (бензин)                   10 300 км         Да  слева   \n",
       "2       1.6 (бензин)  передний привод  39 258 км         Да  слева   \n",
       "3   2.2 (газ-бензин)    задний привод                    Да  слева   \n",
       "4       2.4 (бензин)    полный привод  60 000 км         Да  слева   \n",
       "\n",
       "                   Цвет  \n",
       "0  серебристый металлик  \n",
       "1                черный  \n",
       "2        серый металлик  \n",
       "3        серый металлик  \n",
       "4                 серый  "
      ]
     },
     "execution_count": 66,
     "metadata": {},
     "output_type": "execute_result"
    }
   ],
   "source": [
    "df = pd.DataFrame.from_dict(dictionary_big)\n",
    "df.head()"
   ]
  },
  {
   "cell_type": "code",
   "execution_count": 67,
   "metadata": {},
   "outputs": [
    {
     "data": {
      "text/plain": [
       "4998"
      ]
     },
     "execution_count": 67,
     "metadata": {},
     "output_type": "execute_result"
    }
   ],
   "source": [
    "len(df)"
   ]
  },
  {
   "cell_type": "code",
   "execution_count": 68,
   "metadata": {},
   "outputs": [],
   "source": [
    "df = df.drop(columns=['VIN'], axis=1)"
   ]
  },
  {
   "cell_type": "code",
   "execution_count": 69,
   "metadata": {},
   "outputs": [
    {
     "data": {
      "text/html": [
       "<div>\n",
       "<style scoped>\n",
       "    .dataframe tbody tr th:only-of-type {\n",
       "        vertical-align: middle;\n",
       "    }\n",
       "\n",
       "    .dataframe tbody tr th {\n",
       "        vertical-align: top;\n",
       "    }\n",
       "\n",
       "    .dataframe thead th {\n",
       "        text-align: right;\n",
       "    }\n",
       "</style>\n",
       "<table border=\"1\" class=\"dataframe\">\n",
       "  <thead>\n",
       "    <tr style=\"text-align: right;\">\n",
       "      <th></th>\n",
       "      <th>Price</th>\n",
       "      <th>Year</th>\n",
       "      <th>Город</th>\n",
       "      <th>Коробка передач</th>\n",
       "      <th>Кузов</th>\n",
       "      <th>Объем двигателя, л</th>\n",
       "      <th>Привод</th>\n",
       "      <th>Пробег</th>\n",
       "      <th>Растаможен</th>\n",
       "      <th>Руль</th>\n",
       "      <th>Цвет</th>\n",
       "    </tr>\n",
       "  </thead>\n",
       "  <tbody>\n",
       "    <tr>\n",
       "      <th>0</th>\n",
       "      <td>13 800 000</td>\n",
       "      <td>2018</td>\n",
       "      <td>Алматы</td>\n",
       "      <td>автомат</td>\n",
       "      <td>седан</td>\n",
       "      <td>2.5 (бензин)</td>\n",
       "      <td>передний привод</td>\n",
       "      <td>1 км</td>\n",
       "      <td>Да</td>\n",
       "      <td>слева</td>\n",
       "      <td>серебристый металлик</td>\n",
       "    </tr>\n",
       "    <tr>\n",
       "      <th>1</th>\n",
       "      <td>68 000 000</td>\n",
       "      <td>2014</td>\n",
       "      <td>Алматы</td>\n",
       "      <td>автомат</td>\n",
       "      <td>внедорожник</td>\n",
       "      <td>5.5 (бензин)</td>\n",
       "      <td></td>\n",
       "      <td>10 300 км</td>\n",
       "      <td>Да</td>\n",
       "      <td>слева</td>\n",
       "      <td>черный</td>\n",
       "    </tr>\n",
       "    <tr>\n",
       "      <th>2</th>\n",
       "      <td>5 499 999</td>\n",
       "      <td>2013</td>\n",
       "      <td>Алматы</td>\n",
       "      <td>автомат</td>\n",
       "      <td>седан</td>\n",
       "      <td>1.6 (бензин)</td>\n",
       "      <td>передний привод</td>\n",
       "      <td>39 258 км</td>\n",
       "      <td>Да</td>\n",
       "      <td>слева</td>\n",
       "      <td>серый металлик</td>\n",
       "    </tr>\n",
       "    <tr>\n",
       "      <th>3</th>\n",
       "      <td>1 850 000</td>\n",
       "      <td>1993</td>\n",
       "      <td>Шымкент</td>\n",
       "      <td>автомат</td>\n",
       "      <td>седан</td>\n",
       "      <td>2.2 (газ-бензин)</td>\n",
       "      <td>задний привод</td>\n",
       "      <td></td>\n",
       "      <td>Да</td>\n",
       "      <td>слева</td>\n",
       "      <td>серый металлик</td>\n",
       "    </tr>\n",
       "    <tr>\n",
       "      <th>4</th>\n",
       "      <td>6 100 000</td>\n",
       "      <td>2013</td>\n",
       "      <td>Актобе</td>\n",
       "      <td>автомат</td>\n",
       "      <td>кроссовер</td>\n",
       "      <td>2.4 (бензин)</td>\n",
       "      <td>полный привод</td>\n",
       "      <td>60 000 км</td>\n",
       "      <td>Да</td>\n",
       "      <td>слева</td>\n",
       "      <td>серый</td>\n",
       "    </tr>\n",
       "  </tbody>\n",
       "</table>\n",
       "</div>"
      ],
      "text/plain": [
       "        Price  Year    Город Коробка передач        Кузов Объем двигателя, л  \\\n",
       "0  13 800 000  2018   Алматы         автомат        седан       2.5 (бензин)   \n",
       "1  68 000 000  2014   Алматы         автомат  внедорожник       5.5 (бензин)   \n",
       "2   5 499 999  2013   Алматы         автомат        седан       1.6 (бензин)   \n",
       "3   1 850 000  1993  Шымкент         автомат        седан   2.2 (газ-бензин)   \n",
       "4   6 100 000  2013   Актобе         автомат    кроссовер       2.4 (бензин)   \n",
       "\n",
       "            Привод     Пробег Растаможен   Руль                  Цвет  \n",
       "0  передний привод       1 км         Да  слева  серебристый металлик  \n",
       "1                   10 300 км         Да  слева                черный  \n",
       "2  передний привод  39 258 км         Да  слева        серый металлик  \n",
       "3    задний привод                    Да  слева        серый металлик  \n",
       "4    полный привод  60 000 км         Да  слева                 серый  "
      ]
     },
     "execution_count": 69,
     "metadata": {},
     "output_type": "execute_result"
    }
   ],
   "source": [
    "df.head()"
   ]
  },
  {
   "cell_type": "code",
   "execution_count": 70,
   "metadata": {},
   "outputs": [],
   "source": [
    "dictionary_big['Names'] = list_of_names"
   ]
  },
  {
   "cell_type": "code",
   "execution_count": 71,
   "metadata": {},
   "outputs": [],
   "source": [
    "df['Names'] = list_of_names"
   ]
  },
  {
   "cell_type": "code",
   "execution_count": 72,
   "metadata": {},
   "outputs": [
    {
     "data": {
      "text/html": [
       "<div>\n",
       "<style scoped>\n",
       "    .dataframe tbody tr th:only-of-type {\n",
       "        vertical-align: middle;\n",
       "    }\n",
       "\n",
       "    .dataframe tbody tr th {\n",
       "        vertical-align: top;\n",
       "    }\n",
       "\n",
       "    .dataframe thead th {\n",
       "        text-align: right;\n",
       "    }\n",
       "</style>\n",
       "<table border=\"1\" class=\"dataframe\">\n",
       "  <thead>\n",
       "    <tr style=\"text-align: right;\">\n",
       "      <th></th>\n",
       "      <th>Price</th>\n",
       "      <th>Year</th>\n",
       "      <th>Город</th>\n",
       "      <th>Коробка передач</th>\n",
       "      <th>Кузов</th>\n",
       "      <th>Объем двигателя, л</th>\n",
       "      <th>Привод</th>\n",
       "      <th>Пробег</th>\n",
       "      <th>Растаможен</th>\n",
       "      <th>Руль</th>\n",
       "      <th>Цвет</th>\n",
       "      <th>Names</th>\n",
       "    </tr>\n",
       "  </thead>\n",
       "  <tbody>\n",
       "    <tr>\n",
       "      <th>0</th>\n",
       "      <td>13 800 000</td>\n",
       "      <td>2018</td>\n",
       "      <td>Алматы</td>\n",
       "      <td>автомат</td>\n",
       "      <td>седан</td>\n",
       "      <td>2.5 (бензин)</td>\n",
       "      <td>передний привод</td>\n",
       "      <td>1 км</td>\n",
       "      <td>Да</td>\n",
       "      <td>слева</td>\n",
       "      <td>серебристый металлик</td>\n",
       "      <td>Toyota Camry</td>\n",
       "    </tr>\n",
       "    <tr>\n",
       "      <th>1</th>\n",
       "      <td>68 000 000</td>\n",
       "      <td>2014</td>\n",
       "      <td>Алматы</td>\n",
       "      <td>автомат</td>\n",
       "      <td>внедорожник</td>\n",
       "      <td>5.5 (бензин)</td>\n",
       "      <td></td>\n",
       "      <td>10 300 км</td>\n",
       "      <td>Да</td>\n",
       "      <td>слева</td>\n",
       "      <td>черный</td>\n",
       "      <td>Mercedes-Benz G 63 AMG</td>\n",
       "    </tr>\n",
       "    <tr>\n",
       "      <th>2</th>\n",
       "      <td>5 499 999</td>\n",
       "      <td>2013</td>\n",
       "      <td>Алматы</td>\n",
       "      <td>автомат</td>\n",
       "      <td>седан</td>\n",
       "      <td>1.6 (бензин)</td>\n",
       "      <td>передний привод</td>\n",
       "      <td>39 258 км</td>\n",
       "      <td>Да</td>\n",
       "      <td>слева</td>\n",
       "      <td>серый металлик</td>\n",
       "      <td>Toyota Corolla</td>\n",
       "    </tr>\n",
       "    <tr>\n",
       "      <th>3</th>\n",
       "      <td>1 850 000</td>\n",
       "      <td>1993</td>\n",
       "      <td>Шымкент</td>\n",
       "      <td>автомат</td>\n",
       "      <td>седан</td>\n",
       "      <td>2.2 (газ-бензин)</td>\n",
       "      <td>задний привод</td>\n",
       "      <td></td>\n",
       "      <td>Да</td>\n",
       "      <td>слева</td>\n",
       "      <td>серый металлик</td>\n",
       "      <td>Mercedes-Benz E 220</td>\n",
       "    </tr>\n",
       "    <tr>\n",
       "      <th>4</th>\n",
       "      <td>6 100 000</td>\n",
       "      <td>2013</td>\n",
       "      <td>Актобе</td>\n",
       "      <td>автомат</td>\n",
       "      <td>кроссовер</td>\n",
       "      <td>2.4 (бензин)</td>\n",
       "      <td>полный привод</td>\n",
       "      <td>60 000 км</td>\n",
       "      <td>Да</td>\n",
       "      <td>слева</td>\n",
       "      <td>серый</td>\n",
       "      <td>Mitsubishi Outlander</td>\n",
       "    </tr>\n",
       "  </tbody>\n",
       "</table>\n",
       "</div>"
      ],
      "text/plain": [
       "        Price  Year    Город Коробка передач        Кузов Объем двигателя, л  \\\n",
       "0  13 800 000  2018   Алматы         автомат        седан       2.5 (бензин)   \n",
       "1  68 000 000  2014   Алматы         автомат  внедорожник       5.5 (бензин)   \n",
       "2   5 499 999  2013   Алматы         автомат        седан       1.6 (бензин)   \n",
       "3   1 850 000  1993  Шымкент         автомат        седан   2.2 (газ-бензин)   \n",
       "4   6 100 000  2013   Актобе         автомат    кроссовер       2.4 (бензин)   \n",
       "\n",
       "            Привод     Пробег Растаможен   Руль                  Цвет  \\\n",
       "0  передний привод       1 км         Да  слева  серебристый металлик   \n",
       "1                   10 300 км         Да  слева                черный   \n",
       "2  передний привод  39 258 км         Да  слева        серый металлик   \n",
       "3    задний привод                    Да  слева        серый металлик   \n",
       "4    полный привод  60 000 км         Да  слева                 серый   \n",
       "\n",
       "                    Names  \n",
       "0            Toyota Camry  \n",
       "1  Mercedes-Benz G 63 AMG  \n",
       "2          Toyota Corolla  \n",
       "3     Mercedes-Benz E 220  \n",
       "4    Mitsubishi Outlander  "
      ]
     },
     "execution_count": 72,
     "metadata": {},
     "output_type": "execute_result"
    }
   ],
   "source": [
    "df.head()"
   ]
  },
  {
   "cell_type": "code",
   "execution_count": 73,
   "metadata": {},
   "outputs": [],
   "source": [
    "df.to_csv('datas.csv')"
   ]
  }
 ],
 "metadata": {
  "kernelspec": {
   "display_name": "Python 3",
   "language": "python",
   "name": "python3"
  },
  "language_info": {
   "codemirror_mode": {
    "name": "ipython",
    "version": 3
   },
   "file_extension": ".py",
   "mimetype": "text/x-python",
   "name": "python",
   "nbconvert_exporter": "python",
   "pygments_lexer": "ipython3",
   "version": "3.5.6"
  }
 },
 "nbformat": 4,
 "nbformat_minor": 2
}
