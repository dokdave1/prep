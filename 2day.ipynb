{
 "cells": [
  {
   "cell_type": "code",
   "execution_count": 1,
   "metadata": {},
   "outputs": [],
   "source": [
    "a = 3"
   ]
  },
  {
   "cell_type": "code",
   "execution_count": 5,
   "metadata": {},
   "outputs": [
    {
     "name": "stdout",
     "output_type": "stream",
     "text": [
      "Yes\n"
     ]
    }
   ],
   "source": [
    "if a!=0:\n",
    "    print(\"Yes\")"
   ]
  },
  {
   "cell_type": "code",
   "execution_count": 6,
   "metadata": {},
   "outputs": [
    {
     "name": "stdout",
     "output_type": "stream",
     "text": [
      "dsaojadf\n"
     ]
    }
   ],
   "source": [
    "if 'a' == 'a':\n",
    "    print(\"dsaojadf\")"
   ]
  },
  {
   "cell_type": "code",
   "execution_count": 7,
   "metadata": {},
   "outputs": [
    {
     "name": "stdout",
     "output_type": "stream",
     "text": [
      "dsaojadf\n"
     ]
    }
   ],
   "source": [
    "if 'a' is 'a':\n",
    "    print(\"dsaojadf\")"
   ]
  },
  {
   "cell_type": "code",
   "execution_count": 8,
   "metadata": {},
   "outputs": [
    {
     "name": "stdout",
     "output_type": "stream",
     "text": [
      "a is not b\n"
     ]
    }
   ],
   "source": [
    "if 'a' is not 'b':\n",
    "    print(\"a is not b\")"
   ]
  },
  {
   "cell_type": "code",
   "execution_count": 9,
   "metadata": {},
   "outputs": [
    {
     "name": "stdout",
     "output_type": "stream",
     "text": [
      "d is not less than 0\n"
     ]
    }
   ],
   "source": [
    "d = 4\n",
    "if d<0:\n",
    "    print(\"d is less than 0\")\n",
    "else:\n",
    "    print(\"d is not less than 0\")"
   ]
  },
  {
   "cell_type": "code",
   "execution_count": 11,
   "metadata": {},
   "outputs": [
    {
     "name": "stdout",
     "output_type": "stream",
     "text": [
      "dasfhakf\n"
     ]
    }
   ],
   "source": [
    "d = 4\n",
    "if d<0:\n",
    "    print(\"d is less than 0\")\n",
    "elif d>=4:\n",
    "    print(\"dasfhakf\")\n",
    "elif d<6:\n",
    "    print('fsdjkf')\n",
    "else:\n",
    "    print(\"d is not less than 0\")"
   ]
  },
  {
   "cell_type": "code",
   "execution_count": 13,
   "metadata": {},
   "outputs": [
    {
     "name": "stdout",
     "output_type": "stream",
     "text": [
      "Enter your number: 8\n",
      "d = 9\n"
     ]
    }
   ],
   "source": [
    "d = int(input(\"Enter your number: \"))\n",
    "if d>0:\n",
    "    d = d+1\n",
    "    #d+=1\n",
    "    print('d = '+ str(d))\n",
    "else:\n",
    "    print('d = '+ str(d))"
   ]
  },
  {
   "cell_type": "markdown",
   "metadata": {},
   "source": [
    "NEW"
   ]
  },
  {
   "cell_type": "code",
   "execution_count": 16,
   "metadata": {},
   "outputs": [
    {
     "data": {
      "text/plain": [
       "7"
      ]
     },
     "execution_count": 16,
     "metadata": {},
     "output_type": "execute_result"
    }
   ],
   "source": [
    "abs(-7)"
   ]
  },
  {
   "cell_type": "code",
   "execution_count": 17,
   "metadata": {},
   "outputs": [],
   "source": [
    "import math"
   ]
  },
  {
   "cell_type": "code",
   "execution_count": 22,
   "metadata": {},
   "outputs": [
    {
     "data": {
      "text/plain": [
       "8.0"
      ]
     },
     "execution_count": 22,
     "metadata": {},
     "output_type": "execute_result"
    }
   ],
   "source": [
    "math.fabs(int(-8))"
   ]
  },
  {
   "cell_type": "code",
   "execution_count": 23,
   "metadata": {},
   "outputs": [
    {
     "name": "stdout",
     "output_type": "stream",
     "text": [
      "Enter a: 3\n",
      "True\n"
     ]
    }
   ],
   "source": [
    "a = int(input(\"Enter a: \"))\n",
    "print(a%2!=0)"
   ]
  },
  {
   "cell_type": "code",
   "execution_count": 25,
   "metadata": {},
   "outputs": [
    {
     "name": "stdout",
     "output_type": "stream",
     "text": [
      "Dalbasa narse\n"
     ]
    }
   ],
   "source": [
    "c = False\n",
    "if c:\n",
    "    print(\"Python tema sabak wigar?\")\n",
    "else:\n",
    "    print(\"Dalbasa narse\")"
   ]
  },
  {
   "cell_type": "code",
   "execution_count": 28,
   "metadata": {},
   "outputs": [
    {
     "data": {
      "text/plain": [
       "2"
      ]
     },
     "execution_count": 28,
     "metadata": {},
     "output_type": "execute_result"
    }
   ],
   "source": [
    "7%5"
   ]
  },
  {
   "cell_type": "code",
   "execution_count": 29,
   "metadata": {},
   "outputs": [
    {
     "name": "stdout",
     "output_type": "stream",
     "text": [
      "Enter k: 7\n"
     ]
    }
   ],
   "source": [
    "k = int(input(\"Enter k: \"))\n",
    "if k%2==0:\n",
    "    print(k%2)"
   ]
  },
  {
   "cell_type": "code",
   "execution_count": 30,
   "metadata": {},
   "outputs": [
    {
     "name": "stdout",
     "output_type": "stream",
     "text": [
      "Enter a: 2\n",
      "Enter b: -5\n",
      "Enter c: 3\n",
      "2\n"
     ]
    }
   ],
   "source": [
    "counter=0\n",
    "a = int(input(\"Enter a: \"))\n",
    "b = int(input(\"Enter b: \"))\n",
    "c = int(input(\"Enter c: \"))\n",
    "\n",
    "if a > 0:\n",
    "    counter = counter + 1\n",
    "if b > 0:\n",
    "    counter += 1\n",
    "if c > 0:\n",
    "    counter += 1\n",
    "    \n",
    "print(counter)"
   ]
  },
  {
   "cell_type": "markdown",
   "metadata": {},
   "source": [
    "<html>\n",
    "<h1>Hi, guys</h1>\n",
    "</html>"
   ]
  },
  {
   "cell_type": "code",
   "execution_count": 31,
   "metadata": {},
   "outputs": [],
   "source": [
    "a = 2\n",
    "b = 3"
   ]
  },
  {
   "cell_type": "code",
   "execution_count": 35,
   "metadata": {},
   "outputs": [],
   "source": [
    "a,b = b,a+1"
   ]
  },
  {
   "cell_type": "code",
   "execution_count": 33,
   "metadata": {},
   "outputs": [
    {
     "data": {
      "text/plain": [
       "3"
      ]
     },
     "execution_count": 33,
     "metadata": {},
     "output_type": "execute_result"
    }
   ],
   "source": [
    "a"
   ]
  },
  {
   "cell_type": "code",
   "execution_count": 34,
   "metadata": {},
   "outputs": [
    {
     "data": {
      "text/plain": [
       "2"
      ]
     },
     "execution_count": 34,
     "metadata": {},
     "output_type": "execute_result"
    }
   ],
   "source": [
    "b"
   ]
  },
  {
   "cell_type": "code",
   "execution_count": 36,
   "metadata": {},
   "outputs": [],
   "source": [
    "b = 3\n",
    "a = b==3"
   ]
  },
  {
   "cell_type": "code",
   "execution_count": 37,
   "metadata": {},
   "outputs": [
    {
     "data": {
      "text/plain": [
       "True"
      ]
     },
     "execution_count": 37,
     "metadata": {},
     "output_type": "execute_result"
    }
   ],
   "source": [
    "a"
   ]
  },
  {
   "cell_type": "code",
   "execution_count": 40,
   "metadata": {},
   "outputs": [
    {
     "name": "stdout",
     "output_type": "stream",
     "text": [
      "Enter a: 2\n",
      "Enter b: -1\n",
      "a =  -1\n",
      "b =  2\n"
     ]
    }
   ],
   "source": [
    "a = int(input(\"Enter a: \"))\n",
    "b = int(input(\"Enter b: \"))\n",
    "\n",
    "if a<b:\n",
    "    print('a = ',a)\n",
    "    print('b = ',b)\n",
    "else:\n",
    "    a,b = b,a\n",
    "    print('a = ',a)\n",
    "    print('b = ',b)"
   ]
  },
  {
   "cell_type": "code",
   "execution_count": 41,
   "metadata": {},
   "outputs": [
    {
     "name": "stdout",
     "output_type": "stream",
     "text": [
      "Enter a: 2.3\n",
      "Enter b: 4.8\n",
      "a =  7.1\n",
      "b =  7.1\n"
     ]
    }
   ],
   "source": [
    "a = float(input(\"Enter a: \"))\n",
    "b = float(input(\"Enter b: \"))\n",
    "\n",
    "if a==b:\n",
    "    a=0\n",
    "    b=0\n",
    "    print('a = ',a)\n",
    "    print('b = ',b)\n",
    "else:\n",
    "    a,b = a+b,a+b\n",
    "    print('a = ',a)\n",
    "    print('b = ',b)"
   ]
  },
  {
   "cell_type": "code",
   "execution_count": 43,
   "metadata": {},
   "outputs": [
    {
     "data": {
      "text/plain": [
       "7.1"
      ]
     },
     "execution_count": 43,
     "metadata": {},
     "output_type": "execute_result"
    }
   ],
   "source": [
    "max(a,b)"
   ]
  },
  {
   "cell_type": "code",
   "execution_count": 44,
   "metadata": {},
   "outputs": [
    {
     "data": {
      "text/plain": [
       "5"
      ]
     },
     "execution_count": 44,
     "metadata": {},
     "output_type": "execute_result"
    }
   ],
   "source": [
    "max(2.3, 3,5,4)"
   ]
  },
  {
   "cell_type": "code",
   "execution_count": 45,
   "metadata": {},
   "outputs": [
    {
     "data": {
      "text/plain": [
       "-3"
      ]
     },
     "execution_count": 45,
     "metadata": {},
     "output_type": "execute_result"
    }
   ],
   "source": [
    "min(2,3,9,-3)"
   ]
  },
  {
   "cell_type": "code",
   "execution_count": 48,
   "metadata": {},
   "outputs": [
    {
     "name": "stdout",
     "output_type": "stream",
     "text": [
      "Enter a: 2\n",
      "Enter b: 5\n",
      "5.0\n"
     ]
    }
   ],
   "source": [
    "a = float(input(\"Enter a: \"))\n",
    "b = float(input(\"Enter b: \"))\n",
    "if a!=b:\n",
    "    print(max(a,b))"
   ]
  },
  {
   "cell_type": "code",
   "execution_count": 56,
   "metadata": {},
   "outputs": [
    {
     "name": "stdout",
     "output_type": "stream",
     "text": [
      "My name is Zhangir and age is 15\n"
     ]
    }
   ],
   "source": [
    "name = 'Zhangir'\n",
    "age = 15\n",
    "\n",
    "print('My name is {0} and age is {1}'.format(name, age))"
   ]
  },
  {
   "cell_type": "code",
   "execution_count": null,
   "metadata": {},
   "outputs": [],
   "source": []
  }
 ],
 "metadata": {
  "kernelspec": {
   "display_name": "Python 3",
   "language": "python",
   "name": "python3"
  },
  "language_info": {
   "codemirror_mode": {
    "name": "ipython",
    "version": 3
   },
   "file_extension": ".py",
   "mimetype": "text/x-python",
   "name": "python",
   "nbconvert_exporter": "python",
   "pygments_lexer": "ipython3",
   "version": "3.5.6"
  }
 },
 "nbformat": 4,
 "nbformat_minor": 2
}
