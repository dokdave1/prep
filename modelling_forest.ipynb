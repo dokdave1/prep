{
 "cells": [
  {
   "cell_type": "markdown",
   "metadata": {},
   "source": [
    "# Multivariate Regression Problem"
   ]
  },
  {
   "cell_type": "code",
   "execution_count": 78,
   "metadata": {},
   "outputs": [],
   "source": [
    "import pandas as pd \n",
    "import numpy as np\n",
    "import matplotlib.pyplot as plt\n",
    "%matplotlib inline"
   ]
  },
  {
   "cell_type": "code",
   "execution_count": 79,
   "metadata": {},
   "outputs": [
    {
     "data": {
      "text/html": [
       "<div>\n",
       "<style scoped>\n",
       "    .dataframe tbody tr th:only-of-type {\n",
       "        vertical-align: middle;\n",
       "    }\n",
       "\n",
       "    .dataframe tbody tr th {\n",
       "        vertical-align: top;\n",
       "    }\n",
       "\n",
       "    .dataframe thead th {\n",
       "        text-align: right;\n",
       "    }\n",
       "</style>\n",
       "<table border=\"1\" class=\"dataframe\">\n",
       "  <thead>\n",
       "    <tr style=\"text-align: right;\">\n",
       "      <th></th>\n",
       "      <th>Price</th>\n",
       "      <th>Year</th>\n",
       "      <th>Город</th>\n",
       "      <th>Коробка передач</th>\n",
       "      <th>Кузов</th>\n",
       "      <th>Привод</th>\n",
       "      <th>Пробег</th>\n",
       "      <th>Растаможен</th>\n",
       "      <th>Руль</th>\n",
       "      <th>Цвет</th>\n",
       "      <th>Names</th>\n",
       "      <th>Volume</th>\n",
       "      <th>Fuel_type</th>\n",
       "    </tr>\n",
       "  </thead>\n",
       "  <tbody>\n",
       "    <tr>\n",
       "      <th>0</th>\n",
       "      <td>13800000</td>\n",
       "      <td>2018</td>\n",
       "      <td>Алматы</td>\n",
       "      <td>автомат</td>\n",
       "      <td>седан</td>\n",
       "      <td>передний привод</td>\n",
       "      <td>1.0</td>\n",
       "      <td>Да</td>\n",
       "      <td>слева</td>\n",
       "      <td>серебристый металлик</td>\n",
       "      <td>Toyota Camry</td>\n",
       "      <td>2.5</td>\n",
       "      <td>бензин</td>\n",
       "    </tr>\n",
       "    <tr>\n",
       "      <th>1</th>\n",
       "      <td>68000000</td>\n",
       "      <td>2014</td>\n",
       "      <td>Алматы</td>\n",
       "      <td>автомат</td>\n",
       "      <td>внедорожник</td>\n",
       "      <td>NaN</td>\n",
       "      <td>10300.0</td>\n",
       "      <td>Да</td>\n",
       "      <td>слева</td>\n",
       "      <td>черный</td>\n",
       "      <td>Mercedes-Benz G 63 AMG</td>\n",
       "      <td>5.5</td>\n",
       "      <td>бензин</td>\n",
       "    </tr>\n",
       "    <tr>\n",
       "      <th>2</th>\n",
       "      <td>5499999</td>\n",
       "      <td>2013</td>\n",
       "      <td>Алматы</td>\n",
       "      <td>автомат</td>\n",
       "      <td>седан</td>\n",
       "      <td>передний привод</td>\n",
       "      <td>39258.0</td>\n",
       "      <td>Да</td>\n",
       "      <td>слева</td>\n",
       "      <td>серый металлик</td>\n",
       "      <td>Toyota Corolla</td>\n",
       "      <td>1.6</td>\n",
       "      <td>бензин</td>\n",
       "    </tr>\n",
       "    <tr>\n",
       "      <th>3</th>\n",
       "      <td>1850000</td>\n",
       "      <td>1993</td>\n",
       "      <td>Шымкент</td>\n",
       "      <td>автомат</td>\n",
       "      <td>седан</td>\n",
       "      <td>задний привод</td>\n",
       "      <td>NaN</td>\n",
       "      <td>Да</td>\n",
       "      <td>слева</td>\n",
       "      <td>серый металлик</td>\n",
       "      <td>Mercedes-Benz E 220</td>\n",
       "      <td>2.2</td>\n",
       "      <td>газ-бензин</td>\n",
       "    </tr>\n",
       "    <tr>\n",
       "      <th>4</th>\n",
       "      <td>6100000</td>\n",
       "      <td>2013</td>\n",
       "      <td>Актобе</td>\n",
       "      <td>автомат</td>\n",
       "      <td>кроссовер</td>\n",
       "      <td>полный привод</td>\n",
       "      <td>60000.0</td>\n",
       "      <td>Да</td>\n",
       "      <td>слева</td>\n",
       "      <td>серый</td>\n",
       "      <td>Mitsubishi Outlander</td>\n",
       "      <td>2.4</td>\n",
       "      <td>бензин</td>\n",
       "    </tr>\n",
       "  </tbody>\n",
       "</table>\n",
       "</div>"
      ],
      "text/plain": [
       "      Price  Year    Город Коробка передач        Кузов           Привод  \\\n",
       "0  13800000  2018   Алматы         автомат        седан  передний привод   \n",
       "1  68000000  2014   Алматы         автомат  внедорожник              NaN   \n",
       "2   5499999  2013   Алматы         автомат        седан  передний привод   \n",
       "3   1850000  1993  Шымкент         автомат        седан    задний привод   \n",
       "4   6100000  2013   Актобе         автомат    кроссовер    полный привод   \n",
       "\n",
       "    Пробег Растаможен   Руль                  Цвет                   Names  \\\n",
       "0      1.0         Да  слева  серебристый металлик            Toyota Camry   \n",
       "1  10300.0         Да  слева                черный  Mercedes-Benz G 63 AMG   \n",
       "2  39258.0         Да  слева        серый металлик          Toyota Corolla   \n",
       "3      NaN         Да  слева        серый металлик     Mercedes-Benz E 220   \n",
       "4  60000.0         Да  слева                 серый    Mitsubishi Outlander   \n",
       "\n",
       "   Volume   Fuel_type  \n",
       "0     2.5      бензин  \n",
       "1     5.5      бензин  \n",
       "2     1.6      бензин  \n",
       "3     2.2  газ-бензин  \n",
       "4     2.4      бензин  "
      ]
     },
     "execution_count": 79,
     "metadata": {},
     "output_type": "execute_result"
    }
   ],
   "source": [
    "data = pd.read_csv('data_random_forest.csv')\n",
    "data.head()"
   ]
  },
  {
   "cell_type": "code",
   "execution_count": 80,
   "metadata": {},
   "outputs": [
    {
     "name": "stdout",
     "output_type": "stream",
     "text": [
      "<class 'pandas.core.frame.DataFrame'>\n",
      "RangeIndex: 4997 entries, 0 to 4996\n",
      "Data columns (total 13 columns):\n",
      "Price              4997 non-null int64\n",
      "Year               4997 non-null int64\n",
      "Город              4997 non-null object\n",
      "Коробка передач    4997 non-null object\n",
      "Кузов              4997 non-null object\n",
      "Привод             4405 non-null object\n",
      "Пробег             3276 non-null float64\n",
      "Растаможен         4997 non-null object\n",
      "Руль               4952 non-null object\n",
      "Цвет               4596 non-null object\n",
      "Names              4997 non-null object\n",
      "Volume             4995 non-null float64\n",
      "Fuel_type          4995 non-null object\n",
      "dtypes: float64(2), int64(2), object(9)\n",
      "memory usage: 507.6+ KB\n"
     ]
    }
   ],
   "source": [
    "data.info()"
   ]
  },
  {
   "cell_type": "code",
   "execution_count": 81,
   "metadata": {},
   "outputs": [
    {
     "data": {
      "text/html": [
       "<div>\n",
       "<style scoped>\n",
       "    .dataframe tbody tr th:only-of-type {\n",
       "        vertical-align: middle;\n",
       "    }\n",
       "\n",
       "    .dataframe tbody tr th {\n",
       "        vertical-align: top;\n",
       "    }\n",
       "\n",
       "    .dataframe thead th {\n",
       "        text-align: right;\n",
       "    }\n",
       "</style>\n",
       "<table border=\"1\" class=\"dataframe\">\n",
       "  <thead>\n",
       "    <tr style=\"text-align: right;\">\n",
       "      <th></th>\n",
       "      <th>Price</th>\n",
       "      <th>Year</th>\n",
       "      <th>Город</th>\n",
       "      <th>Коробка передач</th>\n",
       "      <th>Кузов</th>\n",
       "      <th>Привод</th>\n",
       "      <th>Пробег</th>\n",
       "      <th>Растаможен</th>\n",
       "      <th>Руль</th>\n",
       "      <th>Цвет</th>\n",
       "      <th>Volume</th>\n",
       "      <th>Fuel_type</th>\n",
       "    </tr>\n",
       "  </thead>\n",
       "  <tbody>\n",
       "    <tr>\n",
       "      <th>0</th>\n",
       "      <td>13800000</td>\n",
       "      <td>2018</td>\n",
       "      <td>Алматы</td>\n",
       "      <td>автомат</td>\n",
       "      <td>седан</td>\n",
       "      <td>передний привод</td>\n",
       "      <td>1.0</td>\n",
       "      <td>Да</td>\n",
       "      <td>слева</td>\n",
       "      <td>серебристый металлик</td>\n",
       "      <td>2.5</td>\n",
       "      <td>бензин</td>\n",
       "    </tr>\n",
       "    <tr>\n",
       "      <th>1</th>\n",
       "      <td>68000000</td>\n",
       "      <td>2014</td>\n",
       "      <td>Алматы</td>\n",
       "      <td>автомат</td>\n",
       "      <td>внедорожник</td>\n",
       "      <td>NaN</td>\n",
       "      <td>10300.0</td>\n",
       "      <td>Да</td>\n",
       "      <td>слева</td>\n",
       "      <td>черный</td>\n",
       "      <td>5.5</td>\n",
       "      <td>бензин</td>\n",
       "    </tr>\n",
       "    <tr>\n",
       "      <th>2</th>\n",
       "      <td>5499999</td>\n",
       "      <td>2013</td>\n",
       "      <td>Алматы</td>\n",
       "      <td>автомат</td>\n",
       "      <td>седан</td>\n",
       "      <td>передний привод</td>\n",
       "      <td>39258.0</td>\n",
       "      <td>Да</td>\n",
       "      <td>слева</td>\n",
       "      <td>серый металлик</td>\n",
       "      <td>1.6</td>\n",
       "      <td>бензин</td>\n",
       "    </tr>\n",
       "    <tr>\n",
       "      <th>3</th>\n",
       "      <td>1850000</td>\n",
       "      <td>1993</td>\n",
       "      <td>Шымкент</td>\n",
       "      <td>автомат</td>\n",
       "      <td>седан</td>\n",
       "      <td>задний привод</td>\n",
       "      <td>NaN</td>\n",
       "      <td>Да</td>\n",
       "      <td>слева</td>\n",
       "      <td>серый металлик</td>\n",
       "      <td>2.2</td>\n",
       "      <td>газ-бензин</td>\n",
       "    </tr>\n",
       "    <tr>\n",
       "      <th>4</th>\n",
       "      <td>6100000</td>\n",
       "      <td>2013</td>\n",
       "      <td>Актобе</td>\n",
       "      <td>автомат</td>\n",
       "      <td>кроссовер</td>\n",
       "      <td>полный привод</td>\n",
       "      <td>60000.0</td>\n",
       "      <td>Да</td>\n",
       "      <td>слева</td>\n",
       "      <td>серый</td>\n",
       "      <td>2.4</td>\n",
       "      <td>бензин</td>\n",
       "    </tr>\n",
       "  </tbody>\n",
       "</table>\n",
       "</div>"
      ],
      "text/plain": [
       "      Price  Year    Город Коробка передач        Кузов           Привод  \\\n",
       "0  13800000  2018   Алматы         автомат        седан  передний привод   \n",
       "1  68000000  2014   Алматы         автомат  внедорожник              NaN   \n",
       "2   5499999  2013   Алматы         автомат        седан  передний привод   \n",
       "3   1850000  1993  Шымкент         автомат        седан    задний привод   \n",
       "4   6100000  2013   Актобе         автомат    кроссовер    полный привод   \n",
       "\n",
       "    Пробег Растаможен   Руль                  Цвет  Volume   Fuel_type  \n",
       "0      1.0         Да  слева  серебристый металлик     2.5      бензин  \n",
       "1  10300.0         Да  слева                черный     5.5      бензин  \n",
       "2  39258.0         Да  слева        серый металлик     1.6      бензин  \n",
       "3      NaN         Да  слева        серый металлик     2.2  газ-бензин  \n",
       "4  60000.0         Да  слева                 серый     2.4      бензин  "
      ]
     },
     "execution_count": 81,
     "metadata": {},
     "output_type": "execute_result"
    }
   ],
   "source": [
    "data = data.drop(columns=['Names'], axis = 1)\n",
    "data.head()"
   ]
  },
  {
   "cell_type": "markdown",
   "metadata": {},
   "source": [
    "data preprocessing"
   ]
  },
  {
   "cell_type": "code",
   "execution_count": 82,
   "metadata": {},
   "outputs": [
    {
     "name": "stdout",
     "output_type": "stream",
     "text": [
      "137\n",
      "['Абай (Абайский р-н)' 'Абай (Сарыагашский р-н)' 'Айтеке би'\n",
      " 'Акколь (Аккольский р-н)' 'Акколь (Таласский р-н)' 'Аксай' 'Аксу'\n",
      " 'Аксукент' 'Актау' 'Актобе' 'Алматы' 'Амангельды' 'Аральск' 'Аркалык'\n",
      " 'Аршалы' 'Арысь' 'Аса' 'Астана' 'Астраханка' 'Атакент' 'Атбасар' 'Атырау'\n",
      " 'Аулиеколь' 'Ащибулак' 'Аягоз' 'Байконыр' 'Байтерек' 'Балкашино' 'Балхаш'\n",
      " 'Бауыржана Момышулы' 'Бейнеу' 'Бесагаш' 'Большая Владимировка' 'Боралдай'\n",
      " 'Боровое' 'Бородулиха' 'Ботакара' 'Владивосток' 'Ганюшкино' 'Денисовка'\n",
      " 'Есик' 'Жалагаш' 'Жанакорган' 'Жанаозен' 'Жангала' 'Жаркент' 'Жезказган'\n",
      " 'Жетиген' 'Жетыбай' 'Жетысай' 'Житикара' 'Жосалы' 'Жымпиты' 'Зайсан'\n",
      " 'Затобольск' 'Зыряновск' 'Индерборский' 'Иргели' 'Казалинск' 'Казыгурт'\n",
      " 'Кайнар' 'Кандыагаш' 'Капчагай' 'Карабалык (Карабалыкский р-н)'\n",
      " 'Караганда' 'Каражал' 'Каратау' 'Каратобе' 'Каркаралинск' 'Каскелен'\n",
      " 'Кентау' 'Кокшетау' 'Кордай' 'Костанай' 'Кулан' 'Кульсары' 'Курык'\n",
      " 'Кызылорда' 'Лисаковск' 'Макат' 'Макинск' 'Мартук' 'Махамбет' 'Мерке'\n",
      " 'Миялы' 'Москва' 'Осакаровка' 'Отеген батыра' 'Павлодар' 'Петропавловск'\n",
      " 'Риддер' 'Рудный' 'Самара' 'Самарское' 'Сарань' 'Сарканд' 'Сарыагаш'\n",
      " 'Сарыкемер' 'Сатпаев' 'Саумалколь' 'Семей' 'Сергеевка' 'Степногорск'\n",
      " 'Тайынша' 'Талгар' 'Талдыкорган' 'Тараз' 'Текели' 'Темирлановка'\n",
      " 'Темиртау' 'Теренозек' 'Тобыл' 'Турара Рыскулова' 'Туркестан' 'Узынагаш'\n",
      " 'Уральск' 'Урджар' 'Усть-Каменогорск' 'Ушарал' 'Ушконыр'\n",
      " 'Федоровка (Федоровский р-н)' 'Форт-Шевченко' 'Хромтау' 'Шалкар'\n",
      " 'Шардара' 'Шаульдер' 'Шахтинск' 'Шелек' 'Шемонаиха' 'Шетпе' 'Шиели'\n",
      " 'Шолаккорган' 'Шу' 'Шубаркудук' 'Шымкент' 'Щучинск' 'Экибастуз']\n",
      "Counter({'Алматы': 1660, 'Астана': 672, 'Шымкент': 364, 'Караганда': 284, 'Актобе': 215, 'Актау': 195, 'Атырау': 155, 'Костанай': 147, 'Усть-Каменогорск': 146, 'Уральск': 131, 'Павлодар': 117, 'Тараз': 104, 'Семей': 86, 'Петропавловск': 83, 'Кызылорда': 71, 'Кокшетау': 55, 'Талдыкорган': 51, 'Туркестан': 33, 'Жезказган': 24, 'Жанаозен': 22, 'Экибастуз': 20, 'Рудный': 14, 'Жаркент': 12, 'Шиели': 11, 'Талгар': 11, 'Кульсары': 10, 'Байконыр': 10, 'Узынагаш': 10, 'Темиртау': 9, 'Жетысай': 9, 'Владивосток': 8, 'Балхаш': 8, 'Аксай': 8, 'Турара Рыскулова': 8, 'Кордай': 7, 'Есик': 7, 'Капчагай': 7, 'Айтеке би': 6, 'Сатпаев': 6, 'Каскелен': 6, 'Самара': 5, 'Урджар': 5, 'Каратау': 5, 'Зайсан': 5, 'Мерке': 5, 'Шалкар': 5, 'Боралдай': 5, 'Арысь': 5, 'Шахтинск': 5, 'Индерборский': 4, 'Шетпе': 4, 'Шардара': 4, 'Риддер': 4, 'Аксукент': 4, 'Сарыагаш': 4, 'Бейнеу': 4, 'Аягоз': 4, 'Шемонаиха': 3, 'Шу': 3, 'Лисаковск': 3, 'Шубаркудук': 3, 'Щучинск': 3, 'Ганюшкино': 3, 'Ащибулак': 3, 'Кентау': 2, 'Зыряновск': 2, 'Жалагаш': 2, 'Курык': 2, 'Атакент': 2, 'Атбасар': 2, 'Жетыбай': 2, 'Житикара': 2, 'Аксу': 2, 'Жосалы': 2, 'Аркалык': 2, 'Макинск': 2, 'Отеген батыра': 2, 'Жетиген': 2, 'Сарань': 2, 'Шолаккорган': 2, 'Бесагаш': 2, 'Форт-Шевченко': 2, 'Жанакорган': 2, 'Ушарал': 2, 'Кандыагаш': 2, 'Шаульдер': 2, 'Бауыржана Момышулы': 2, 'Шелек': 2, 'Теренозек': 1, 'Аршалы': 1, 'Тобыл': 1, 'Иргели': 1, 'Жангала': 1, 'Акколь (Таласский р-н)': 1, 'Карабалык (Карабалыкский р-н)': 1, 'Аральск': 1, 'Осакаровка': 1, 'Абай (Сарыагашский р-н)': 1, 'Мартук': 1, 'Акколь (Аккольский р-н)': 1, 'Степногорск': 1, 'Денисовка': 1, 'Текели': 1, 'Аса': 1, 'Махамбет': 1, 'Балкашино': 1, 'Сергеевка': 1, 'Каражал': 1, 'Ботакара': 1, 'Самарское': 1, 'Абай (Абайский р-н)': 1, 'Ушконыр': 1, 'Федоровка (Федоровский р-н)': 1, 'Казыгурт': 1, 'Миялы': 1, 'Сарыкемер': 1, 'Саумалколь': 1, 'Большая Владимировка': 1, 'Макат': 1, 'Сарканд': 1, 'Астраханка': 1, 'Аулиеколь': 1, 'Каратобе': 1, 'Затобольск': 1, 'Темирлановка': 1, 'Кайнар': 1, 'Жымпиты': 1, 'Амангельды': 1, 'Бородулиха': 1, 'Каркаралинск': 1, 'Байтерек': 1, 'Хромтау': 1, 'Тайынша': 1, 'Кулан': 1, 'Казалинск': 1, 'Москва': 1, 'Боровое': 1})\n"
     ]
    }
   ],
   "source": [
    "from collections import Counter\n",
    "\n",
    "print(len(np.unique(list(data['Город']))))\n",
    "print(np.unique(list(data['Город'])))\n",
    "print(Counter(list(data['Город'])))"
   ]
  },
  {
   "cell_type": "code",
   "execution_count": 83,
   "metadata": {},
   "outputs": [
    {
     "name": "stdout",
     "output_type": "stream",
     "text": [
      "4784\n"
     ]
    }
   ],
   "source": [
    "cities = []\n",
    "sum1 = 0\n",
    "for i,j in Counter(list(data['Город'])).items():\n",
    "    if j>6:\n",
    "        cities.append(i)\n",
    "        sum1 = sum1 + j\n",
    "print(sum1)"
   ]
  },
  {
   "cell_type": "code",
   "execution_count": 84,
   "metadata": {},
   "outputs": [
    {
     "data": {
      "text/html": [
       "<div>\n",
       "<style scoped>\n",
       "    .dataframe tbody tr th:only-of-type {\n",
       "        vertical-align: middle;\n",
       "    }\n",
       "\n",
       "    .dataframe tbody tr th {\n",
       "        vertical-align: top;\n",
       "    }\n",
       "\n",
       "    .dataframe thead th {\n",
       "        text-align: right;\n",
       "    }\n",
       "</style>\n",
       "<table border=\"1\" class=\"dataframe\">\n",
       "  <thead>\n",
       "    <tr style=\"text-align: right;\">\n",
       "      <th></th>\n",
       "      <th>Price</th>\n",
       "      <th>Year</th>\n",
       "      <th>Город</th>\n",
       "      <th>Коробка передач</th>\n",
       "      <th>Кузов</th>\n",
       "      <th>Привод</th>\n",
       "      <th>Пробег</th>\n",
       "      <th>Растаможен</th>\n",
       "      <th>Руль</th>\n",
       "      <th>Цвет</th>\n",
       "      <th>Volume</th>\n",
       "      <th>Fuel_type</th>\n",
       "    </tr>\n",
       "  </thead>\n",
       "  <tbody>\n",
       "    <tr>\n",
       "      <th>1953</th>\n",
       "      <td>2500000</td>\n",
       "      <td>1997</td>\n",
       "      <td>Жаркент</td>\n",
       "      <td>автомат</td>\n",
       "      <td>седан</td>\n",
       "      <td>передний привод</td>\n",
       "      <td>777.0</td>\n",
       "      <td>Да</td>\n",
       "      <td>слева</td>\n",
       "      <td>голубой металлик</td>\n",
       "      <td>2.2</td>\n",
       "      <td>газ-бензин</td>\n",
       "    </tr>\n",
       "    <tr>\n",
       "      <th>2000</th>\n",
       "      <td>4200000</td>\n",
       "      <td>2005</td>\n",
       "      <td>Жаркент</td>\n",
       "      <td>автомат</td>\n",
       "      <td>седан</td>\n",
       "      <td>NaN</td>\n",
       "      <td>NaN</td>\n",
       "      <td>Да</td>\n",
       "      <td>слева</td>\n",
       "      <td>золотистый металлик</td>\n",
       "      <td>3.0</td>\n",
       "      <td>бензин</td>\n",
       "    </tr>\n",
       "    <tr>\n",
       "      <th>2246</th>\n",
       "      <td>1500000</td>\n",
       "      <td>2003</td>\n",
       "      <td>Жаркент</td>\n",
       "      <td>механика</td>\n",
       "      <td>седан</td>\n",
       "      <td>передний привод</td>\n",
       "      <td>NaN</td>\n",
       "      <td>Да</td>\n",
       "      <td>слева</td>\n",
       "      <td>синий металлик</td>\n",
       "      <td>1.8</td>\n",
       "      <td>бензин</td>\n",
       "    </tr>\n",
       "    <tr>\n",
       "      <th>2732</th>\n",
       "      <td>1000000</td>\n",
       "      <td>1991</td>\n",
       "      <td>Жаркент</td>\n",
       "      <td>автомат</td>\n",
       "      <td>седан</td>\n",
       "      <td>задний привод</td>\n",
       "      <td>NaN</td>\n",
       "      <td>Да</td>\n",
       "      <td>слева</td>\n",
       "      <td>серебристый металлик</td>\n",
       "      <td>2.3</td>\n",
       "      <td>бензин</td>\n",
       "    </tr>\n",
       "    <tr>\n",
       "      <th>2764</th>\n",
       "      <td>250000</td>\n",
       "      <td>1998</td>\n",
       "      <td>Жаркент</td>\n",
       "      <td>механика</td>\n",
       "      <td>седан</td>\n",
       "      <td>задний привод</td>\n",
       "      <td>1234567.0</td>\n",
       "      <td>Да</td>\n",
       "      <td>слева</td>\n",
       "      <td>белый металлик</td>\n",
       "      <td>1.5</td>\n",
       "      <td>бензин</td>\n",
       "    </tr>\n",
       "  </tbody>\n",
       "</table>\n",
       "</div>"
      ],
      "text/plain": [
       "        Price  Year    Город Коробка передач  Кузов           Привод  \\\n",
       "1953  2500000  1997  Жаркент         автомат  седан  передний привод   \n",
       "2000  4200000  2005  Жаркент         автомат  седан              NaN   \n",
       "2246  1500000  2003  Жаркент        механика  седан  передний привод   \n",
       "2732  1000000  1991  Жаркент         автомат  седан    задний привод   \n",
       "2764   250000  1998  Жаркент        механика  седан    задний привод   \n",
       "\n",
       "         Пробег Растаможен   Руль                  Цвет  Volume   Fuel_type  \n",
       "1953      777.0         Да  слева      голубой металлик     2.2  газ-бензин  \n",
       "2000        NaN         Да  слева   золотистый металлик     3.0      бензин  \n",
       "2246        NaN         Да  слева        синий металлик     1.8      бензин  \n",
       "2732        NaN         Да  слева  серебристый металлик     2.3      бензин  \n",
       "2764  1234567.0         Да  слева        белый металлик     1.5      бензин  "
      ]
     },
     "execution_count": 84,
     "metadata": {},
     "output_type": "execute_result"
    }
   ],
   "source": [
    "frames = []\n",
    "for i in cities:\n",
    "    frames.append(data[data['Город'] == i])\n",
    "data = pd.concat(frames)\n",
    "data.head()"
   ]
  },
  {
   "cell_type": "code",
   "execution_count": 85,
   "metadata": {},
   "outputs": [
    {
     "data": {
      "text/plain": [
       "4784"
      ]
     },
     "execution_count": 85,
     "metadata": {},
     "output_type": "execute_result"
    }
   ],
   "source": [
    "len(data)"
   ]
  },
  {
   "cell_type": "code",
   "execution_count": 86,
   "metadata": {},
   "outputs": [
    {
     "data": {
      "text/plain": [
       "37"
      ]
     },
     "execution_count": 86,
     "metadata": {},
     "output_type": "execute_result"
    }
   ],
   "source": [
    "len(cities)"
   ]
  },
  {
   "cell_type": "code",
   "execution_count": 87,
   "metadata": {},
   "outputs": [
    {
     "name": "stdout",
     "output_type": "stream",
     "text": [
      "<class 'pandas.core.frame.DataFrame'>\n",
      "Int64Index: 4784 entries, 1953 to 4936\n",
      "Data columns (total 12 columns):\n",
      "Price              4784 non-null int64\n",
      "Year               4784 non-null int64\n",
      "Город              4784 non-null object\n",
      "Коробка передач    4784 non-null object\n",
      "Кузов              4784 non-null object\n",
      "Привод             4222 non-null object\n",
      "Пробег             3166 non-null float64\n",
      "Растаможен         4784 non-null object\n",
      "Руль               4744 non-null object\n",
      "Цвет               4406 non-null object\n",
      "Volume             4782 non-null float64\n",
      "Fuel_type          4782 non-null object\n",
      "dtypes: float64(2), int64(2), object(8)\n",
      "memory usage: 485.9+ KB\n"
     ]
    }
   ],
   "source": [
    "data.info()"
   ]
  },
  {
   "cell_type": "code",
   "execution_count": 88,
   "metadata": {},
   "outputs": [
    {
     "name": "stdout",
     "output_type": "stream",
     "text": [
      "Counter({'передний привод': 1918, 'полный привод': 1620, 'задний привод': 684, nan: 562})\n",
      "Counter({'слева': 4453, 'справа': 291, nan: 40})\n",
      "Counter({'белый': 686, 'черный металлик': 551, 'серебристый металлик': 540, 'белый металлик': 438, 'черный': 416, nan: 378, 'серый металлик': 295, 'серебристый': 234, 'синий металлик': 171, 'зеленый металлик': 158, 'серый': 138, 'синий': 124, 'зеленый': 88, 'красный': 69, 'золотистый металлик': 48, 'бордовый металлик': 48, 'коричневый металлик': 43, 'вишня металлик': 43, 'красный металлик': 40, 'вишня': 31, 'бордовый': 29, 'голубой металлик': 29, 'коричневый': 25, 'золотистый': 19, 'бежевый': 18, 'бежевый металлик': 17, 'фиолетовый металлик': 14, 'хамелеон': 11, 'голубой': 10, 'бирюзовый металлик': 9, 'бирюзовый': 9, 'фиолетовый': 9, 'хамелеон металлик': 8, 'оранжевый металлик': 7, 'бронза металлик': 6, 'жёлтый': 6, 'бронза': 6, 'сиреневый металлик': 6, 'оранжевый': 5, 'розовый металлик': 1, 'сиреневый': 1})\n",
      "Counter({1.6: 751, 2.0: 699, 2.5: 394, 3.0: 389, 1.8: 312, 2.4: 294, 3.5: 228, 1.5: 201, 2.7: 129, 2.8: 118, 2.2: 102, 2.3: 92, 3.2: 85, 4.7: 81, 1.4: 77, 4.0: 72, 1.7: 61, 4.6: 60, 5.5: 57, 5.0: 55, 2.9: 51, 5.7: 46, 4.5: 43, 2.6: 37, 1.3: 36, 4.4: 31, 3.3: 28, 4.2: 27, 3.6: 24, 5.6: 22, 6.0: 19, 3.7: 18, 1.9: 18, 4.8: 16, 1.2: 16, 3.8: 14, 1.0: 12, 6.2: 9, 4.3: 7, 0.8: 7, 6.3: 7, 3.9: 5, 0.7: 3, 0.9: 2, 3.4: 2, 6.5: 2, 2.1: 2, 1.1: 2, 2.89: 2, 5.2: 2, 5.3: 2, 1.25: 1, nan: 1, 7.3: 1, 1.84: 1, 2.57: 1, 5.9: 1, 2.99: 1, 2.885: 1, 0.3: 1, 2.75: 1, 5.4: 1, 4.96: 1, 2.97: 1, 6.1: 1, nan: 1})\n",
      "Counter({'бензин': 3788, 'газ-бензин': 580, 'дизель': 388, 'газ': 15, 'гибрид': 11, nan: 2})\n"
     ]
    }
   ],
   "source": [
    "print(Counter(data['Привод']))\n",
    "print(Counter(data['Руль']))\n",
    "print(Counter(data['Цвет']))\n",
    "print(Counter(data['Volume']))\n",
    "print(Counter(data['Fuel_type']))"
   ]
  },
  {
   "cell_type": "code",
   "execution_count": 89,
   "metadata": {},
   "outputs": [],
   "source": [
    "data['Привод'] = data['Привод'].fillna('передний привод')\n",
    "data['Руль'] = data['Руль'].fillna('слева')\n",
    "data['Цвет'] = data['Цвет'].fillna('белый')\n",
    "data['Volume'] = data['Volume'].fillna('1.6')\n",
    "data['Fuel_type'] = data['Fuel_type'].fillna('бензин')"
   ]
  },
  {
   "cell_type": "code",
   "execution_count": 90,
   "metadata": {},
   "outputs": [],
   "source": [
    "data['Пробег'] = data['Пробег'].fillna(data['Пробег'].median())"
   ]
  },
  {
   "cell_type": "code",
   "execution_count": 91,
   "metadata": {},
   "outputs": [
    {
     "name": "stdout",
     "output_type": "stream",
     "text": [
      "<class 'pandas.core.frame.DataFrame'>\n",
      "Int64Index: 4784 entries, 1953 to 4936\n",
      "Data columns (total 12 columns):\n",
      "Price              4784 non-null int64\n",
      "Year               4784 non-null int64\n",
      "Город              4784 non-null object\n",
      "Коробка передач    4784 non-null object\n",
      "Кузов              4784 non-null object\n",
      "Привод             4784 non-null object\n",
      "Пробег             4784 non-null float64\n",
      "Растаможен         4784 non-null object\n",
      "Руль               4784 non-null object\n",
      "Цвет               4784 non-null object\n",
      "Volume             4784 non-null object\n",
      "Fuel_type          4784 non-null object\n",
      "dtypes: float64(1), int64(2), object(9)\n",
      "memory usage: 485.9+ KB\n"
     ]
    }
   ],
   "source": [
    "data.info()"
   ]
  },
  {
   "cell_type": "code",
   "execution_count": 92,
   "metadata": {},
   "outputs": [
    {
     "data": {
      "text/html": [
       "<div>\n",
       "<style scoped>\n",
       "    .dataframe tbody tr th:only-of-type {\n",
       "        vertical-align: middle;\n",
       "    }\n",
       "\n",
       "    .dataframe tbody tr th {\n",
       "        vertical-align: top;\n",
       "    }\n",
       "\n",
       "    .dataframe thead th {\n",
       "        text-align: right;\n",
       "    }\n",
       "</style>\n",
       "<table border=\"1\" class=\"dataframe\">\n",
       "  <thead>\n",
       "    <tr style=\"text-align: right;\">\n",
       "      <th></th>\n",
       "      <th>Year</th>\n",
       "      <th>Город</th>\n",
       "      <th>Коробка передач</th>\n",
       "      <th>Кузов</th>\n",
       "      <th>Привод</th>\n",
       "      <th>Пробег</th>\n",
       "      <th>Растаможен</th>\n",
       "      <th>Руль</th>\n",
       "      <th>Цвет</th>\n",
       "      <th>Volume</th>\n",
       "      <th>Fuel_type</th>\n",
       "    </tr>\n",
       "  </thead>\n",
       "  <tbody>\n",
       "    <tr>\n",
       "      <th>1953</th>\n",
       "      <td>1997</td>\n",
       "      <td>Жаркент</td>\n",
       "      <td>автомат</td>\n",
       "      <td>седан</td>\n",
       "      <td>передний привод</td>\n",
       "      <td>777.0</td>\n",
       "      <td>Да</td>\n",
       "      <td>слева</td>\n",
       "      <td>голубой металлик</td>\n",
       "      <td>2.2</td>\n",
       "      <td>газ-бензин</td>\n",
       "    </tr>\n",
       "    <tr>\n",
       "      <th>2000</th>\n",
       "      <td>2005</td>\n",
       "      <td>Жаркент</td>\n",
       "      <td>автомат</td>\n",
       "      <td>седан</td>\n",
       "      <td>передний привод</td>\n",
       "      <td>119000.0</td>\n",
       "      <td>Да</td>\n",
       "      <td>слева</td>\n",
       "      <td>золотистый металлик</td>\n",
       "      <td>3</td>\n",
       "      <td>бензин</td>\n",
       "    </tr>\n",
       "    <tr>\n",
       "      <th>2246</th>\n",
       "      <td>2003</td>\n",
       "      <td>Жаркент</td>\n",
       "      <td>механика</td>\n",
       "      <td>седан</td>\n",
       "      <td>передний привод</td>\n",
       "      <td>119000.0</td>\n",
       "      <td>Да</td>\n",
       "      <td>слева</td>\n",
       "      <td>синий металлик</td>\n",
       "      <td>1.8</td>\n",
       "      <td>бензин</td>\n",
       "    </tr>\n",
       "    <tr>\n",
       "      <th>2732</th>\n",
       "      <td>1991</td>\n",
       "      <td>Жаркент</td>\n",
       "      <td>автомат</td>\n",
       "      <td>седан</td>\n",
       "      <td>задний привод</td>\n",
       "      <td>119000.0</td>\n",
       "      <td>Да</td>\n",
       "      <td>слева</td>\n",
       "      <td>серебристый металлик</td>\n",
       "      <td>2.3</td>\n",
       "      <td>бензин</td>\n",
       "    </tr>\n",
       "    <tr>\n",
       "      <th>2764</th>\n",
       "      <td>1998</td>\n",
       "      <td>Жаркент</td>\n",
       "      <td>механика</td>\n",
       "      <td>седан</td>\n",
       "      <td>задний привод</td>\n",
       "      <td>1234567.0</td>\n",
       "      <td>Да</td>\n",
       "      <td>слева</td>\n",
       "      <td>белый металлик</td>\n",
       "      <td>1.5</td>\n",
       "      <td>бензин</td>\n",
       "    </tr>\n",
       "  </tbody>\n",
       "</table>\n",
       "</div>"
      ],
      "text/plain": [
       "      Year    Город Коробка передач  Кузов           Привод     Пробег  \\\n",
       "1953  1997  Жаркент         автомат  седан  передний привод      777.0   \n",
       "2000  2005  Жаркент         автомат  седан  передний привод   119000.0   \n",
       "2246  2003  Жаркент        механика  седан  передний привод   119000.0   \n",
       "2732  1991  Жаркент         автомат  седан    задний привод   119000.0   \n",
       "2764  1998  Жаркент        механика  седан    задний привод  1234567.0   \n",
       "\n",
       "     Растаможен   Руль                  Цвет Volume   Fuel_type  \n",
       "1953         Да  слева      голубой металлик    2.2  газ-бензин  \n",
       "2000         Да  слева   золотистый металлик      3      бензин  \n",
       "2246         Да  слева        синий металлик    1.8      бензин  \n",
       "2732         Да  слева  серебристый металлик    2.3      бензин  \n",
       "2764         Да  слева        белый металлик    1.5      бензин  "
      ]
     },
     "execution_count": 92,
     "metadata": {},
     "output_type": "execute_result"
    }
   ],
   "source": [
    "y = data['Price']\n",
    "data = data.drop(columns=['Price'], axis = 1)\n",
    "data.head()"
   ]
  },
  {
   "cell_type": "code",
   "execution_count": 93,
   "metadata": {},
   "outputs": [],
   "source": [
    "data['Year'] = data['Year'].apply(str)"
   ]
  },
  {
   "cell_type": "code",
   "execution_count": 94,
   "metadata": {},
   "outputs": [
    {
     "data": {
      "text/html": [
       "<div>\n",
       "<style scoped>\n",
       "    .dataframe tbody tr th:only-of-type {\n",
       "        vertical-align: middle;\n",
       "    }\n",
       "\n",
       "    .dataframe tbody tr th {\n",
       "        vertical-align: top;\n",
       "    }\n",
       "\n",
       "    .dataframe thead th {\n",
       "        text-align: right;\n",
       "    }\n",
       "</style>\n",
       "<table border=\"1\" class=\"dataframe\">\n",
       "  <thead>\n",
       "    <tr style=\"text-align: right;\">\n",
       "      <th></th>\n",
       "      <th>Пробег</th>\n",
       "      <th>Year_1961</th>\n",
       "      <th>Year_1964</th>\n",
       "      <th>Year_1966</th>\n",
       "      <th>Year_1969</th>\n",
       "      <th>Year_1977</th>\n",
       "      <th>Year_1979</th>\n",
       "      <th>Year_1981</th>\n",
       "      <th>Year_1982</th>\n",
       "      <th>Year_1983</th>\n",
       "      <th>...</th>\n",
       "      <th>Volume_6.2</th>\n",
       "      <th>Volume_6.3</th>\n",
       "      <th>Volume_6.5</th>\n",
       "      <th>Volume_7.3</th>\n",
       "      <th>Volume_1.6</th>\n",
       "      <th>Fuel_type_бензин</th>\n",
       "      <th>Fuel_type_газ</th>\n",
       "      <th>Fuel_type_газ-бензин</th>\n",
       "      <th>Fuel_type_гибрид</th>\n",
       "      <th>Fuel_type_дизель</th>\n",
       "    </tr>\n",
       "  </thead>\n",
       "  <tbody>\n",
       "    <tr>\n",
       "      <th>1953</th>\n",
       "      <td>777.0</td>\n",
       "      <td>0</td>\n",
       "      <td>0</td>\n",
       "      <td>0</td>\n",
       "      <td>0</td>\n",
       "      <td>0</td>\n",
       "      <td>0</td>\n",
       "      <td>0</td>\n",
       "      <td>0</td>\n",
       "      <td>0</td>\n",
       "      <td>...</td>\n",
       "      <td>0</td>\n",
       "      <td>0</td>\n",
       "      <td>0</td>\n",
       "      <td>0</td>\n",
       "      <td>0</td>\n",
       "      <td>0</td>\n",
       "      <td>0</td>\n",
       "      <td>1</td>\n",
       "      <td>0</td>\n",
       "      <td>0</td>\n",
       "    </tr>\n",
       "    <tr>\n",
       "      <th>2000</th>\n",
       "      <td>119000.0</td>\n",
       "      <td>0</td>\n",
       "      <td>0</td>\n",
       "      <td>0</td>\n",
       "      <td>0</td>\n",
       "      <td>0</td>\n",
       "      <td>0</td>\n",
       "      <td>0</td>\n",
       "      <td>0</td>\n",
       "      <td>0</td>\n",
       "      <td>...</td>\n",
       "      <td>0</td>\n",
       "      <td>0</td>\n",
       "      <td>0</td>\n",
       "      <td>0</td>\n",
       "      <td>0</td>\n",
       "      <td>1</td>\n",
       "      <td>0</td>\n",
       "      <td>0</td>\n",
       "      <td>0</td>\n",
       "      <td>0</td>\n",
       "    </tr>\n",
       "    <tr>\n",
       "      <th>2246</th>\n",
       "      <td>119000.0</td>\n",
       "      <td>0</td>\n",
       "      <td>0</td>\n",
       "      <td>0</td>\n",
       "      <td>0</td>\n",
       "      <td>0</td>\n",
       "      <td>0</td>\n",
       "      <td>0</td>\n",
       "      <td>0</td>\n",
       "      <td>0</td>\n",
       "      <td>...</td>\n",
       "      <td>0</td>\n",
       "      <td>0</td>\n",
       "      <td>0</td>\n",
       "      <td>0</td>\n",
       "      <td>0</td>\n",
       "      <td>1</td>\n",
       "      <td>0</td>\n",
       "      <td>0</td>\n",
       "      <td>0</td>\n",
       "      <td>0</td>\n",
       "    </tr>\n",
       "    <tr>\n",
       "      <th>2732</th>\n",
       "      <td>119000.0</td>\n",
       "      <td>0</td>\n",
       "      <td>0</td>\n",
       "      <td>0</td>\n",
       "      <td>0</td>\n",
       "      <td>0</td>\n",
       "      <td>0</td>\n",
       "      <td>0</td>\n",
       "      <td>0</td>\n",
       "      <td>0</td>\n",
       "      <td>...</td>\n",
       "      <td>0</td>\n",
       "      <td>0</td>\n",
       "      <td>0</td>\n",
       "      <td>0</td>\n",
       "      <td>0</td>\n",
       "      <td>1</td>\n",
       "      <td>0</td>\n",
       "      <td>0</td>\n",
       "      <td>0</td>\n",
       "      <td>0</td>\n",
       "    </tr>\n",
       "    <tr>\n",
       "      <th>2764</th>\n",
       "      <td>1234567.0</td>\n",
       "      <td>0</td>\n",
       "      <td>0</td>\n",
       "      <td>0</td>\n",
       "      <td>0</td>\n",
       "      <td>0</td>\n",
       "      <td>0</td>\n",
       "      <td>0</td>\n",
       "      <td>0</td>\n",
       "      <td>0</td>\n",
       "      <td>...</td>\n",
       "      <td>0</td>\n",
       "      <td>0</td>\n",
       "      <td>0</td>\n",
       "      <td>0</td>\n",
       "      <td>0</td>\n",
       "      <td>1</td>\n",
       "      <td>0</td>\n",
       "      <td>0</td>\n",
       "      <td>0</td>\n",
       "      <td>0</td>\n",
       "    </tr>\n",
       "  </tbody>\n",
       "</table>\n",
       "<p>5 rows × 218 columns</p>\n",
       "</div>"
      ],
      "text/plain": [
       "         Пробег  Year_1961  Year_1964  Year_1966  Year_1969  Year_1977  \\\n",
       "1953      777.0          0          0          0          0          0   \n",
       "2000   119000.0          0          0          0          0          0   \n",
       "2246   119000.0          0          0          0          0          0   \n",
       "2732   119000.0          0          0          0          0          0   \n",
       "2764  1234567.0          0          0          0          0          0   \n",
       "\n",
       "      Year_1979  Year_1981  Year_1982  Year_1983        ...         \\\n",
       "1953          0          0          0          0        ...          \n",
       "2000          0          0          0          0        ...          \n",
       "2246          0          0          0          0        ...          \n",
       "2732          0          0          0          0        ...          \n",
       "2764          0          0          0          0        ...          \n",
       "\n",
       "      Volume_6.2  Volume_6.3  Volume_6.5  Volume_7.3  Volume_1.6  \\\n",
       "1953           0           0           0           0           0   \n",
       "2000           0           0           0           0           0   \n",
       "2246           0           0           0           0           0   \n",
       "2732           0           0           0           0           0   \n",
       "2764           0           0           0           0           0   \n",
       "\n",
       "      Fuel_type_бензин  Fuel_type_газ  Fuel_type_газ-бензин  Fuel_type_гибрид  \\\n",
       "1953                 0              0                     1                 0   \n",
       "2000                 1              0                     0                 0   \n",
       "2246                 1              0                     0                 0   \n",
       "2732                 1              0                     0                 0   \n",
       "2764                 1              0                     0                 0   \n",
       "\n",
       "      Fuel_type_дизель  \n",
       "1953                 0  \n",
       "2000                 0  \n",
       "2246                 0  \n",
       "2732                 0  \n",
       "2764                 0  \n",
       "\n",
       "[5 rows x 218 columns]"
      ]
     },
     "execution_count": 94,
     "metadata": {},
     "output_type": "execute_result"
    }
   ],
   "source": [
    "data = pd.get_dummies(data) \n",
    "# Не знаю правильно ли использовать даммис но будеть спрашивать нумерик значения, \n",
    "# а для категориальных данных интеджер нумерация не очень хорошо, но можно попробовать\n",
    "data.head()"
   ]
  },
  {
   "cell_type": "markdown",
   "metadata": {},
   "source": [
    "Train-test"
   ]
  },
  {
   "cell_type": "code",
   "execution_count": 95,
   "metadata": {},
   "outputs": [],
   "source": [
    "from sklearn.model_selection import train_test_split\n",
    "\n",
    "X_train, X_test, y_train, y_test = train_test_split(data, y, test_size=0.33, random_state=42) \n",
    "#Splits dataset to training and testing data"
   ]
  },
  {
   "cell_type": "markdown",
   "metadata": {},
   "source": [
    "Random Forest"
   ]
  },
  {
   "cell_type": "code",
   "execution_count": 96,
   "metadata": {},
   "outputs": [],
   "source": [
    "from sklearn.ensemble import RandomForestRegressor\n",
    "randomf = RandomForestRegressor()"
   ]
  },
  {
   "cell_type": "code",
   "execution_count": 97,
   "metadata": {},
   "outputs": [
    {
     "name": "stderr",
     "output_type": "stream",
     "text": [
      "C:\\Users\\zhang\\Anaconda3\\lib\\site-packages\\sklearn\\ensemble\\forest.py:248: FutureWarning: The default value of n_estimators will change from 10 in version 0.20 to 100 in 0.22.\n",
      "  \"10 in version 0.20 to 100 in 0.22.\", FutureWarning)\n"
     ]
    }
   ],
   "source": [
    "randomf.fit(X_train, y_train)\n",
    "y_pred = randomf.predict(X_test)"
   ]
  },
  {
   "cell_type": "markdown",
   "metadata": {},
   "source": [
    "Root mean squared error"
   ]
  },
  {
   "cell_type": "code",
   "execution_count": 98,
   "metadata": {},
   "outputs": [
    {
     "name": "stdout",
     "output_type": "stream",
     "text": [
      "1398905.2839671816\n",
      "2997735.314350806\n"
     ]
    }
   ],
   "source": [
    "from sklearn.metrics import mean_squared_error\n",
    "\n",
    "print(np.sqrt(mean_squared_error(randomf.predict(X_train), y_train)))\n",
    "print(np.sqrt(mean_squared_error(y_pred, y_test)))"
   ]
  },
  {
   "cell_type": "markdown",
   "metadata": {},
   "source": [
    "Corr coefs analysis"
   ]
  },
  {
   "cell_type": "code",
   "execution_count": 99,
   "metadata": {},
   "outputs": [],
   "source": [
    "from scipy.stats import kendalltau, spearmanr"
   ]
  },
  {
   "cell_type": "code",
   "execution_count": 101,
   "metadata": {},
   "outputs": [
    {
     "data": {
      "text/plain": [
       "0.9478611251916337"
      ]
     },
     "execution_count": 101,
     "metadata": {},
     "output_type": "execute_result"
    }
   ],
   "source": [
    "r2 = randomf.score(X_train, y_train)\n",
    "r2"
   ]
  },
  {
   "cell_type": "code",
   "execution_count": 102,
   "metadata": {},
   "outputs": [],
   "source": [
    "t, t_p = kendalltau(y_pred, y_test)\n",
    "r, r_p = spearmanr(y_pred, y_test)"
   ]
  },
  {
   "cell_type": "code",
   "execution_count": 105,
   "metadata": {},
   "outputs": [
    {
     "name": "stdout",
     "output_type": "stream",
     "text": [
      "Kendall rank correlation coefficient(Close to 1 is better): 0.7174682188508716\n",
      "Spearmans rank corr coefficient(Close to 1 is better): 0.8813390018550825\n"
     ]
    }
   ],
   "source": [
    "print('Kendall rank correlation coefficient(Close to 1 is better):', t)\n",
    "print('Spearmans rank corr coefficient(Close to 1 is better):', r)"
   ]
  },
  {
   "cell_type": "markdown",
   "metadata": {},
   "source": [
    "Cross-val with GridSearch"
   ]
  },
  {
   "cell_type": "code",
   "execution_count": 106,
   "metadata": {},
   "outputs": [],
   "source": [
    "from sklearn.model_selection import GridSearchCV"
   ]
  },
  {
   "cell_type": "code",
   "execution_count": 107,
   "metadata": {},
   "outputs": [],
   "source": [
    "rand_params = {'max_depth': range(2,22), 'n_estimators': range(5,11)}\n",
    "#cv score = 10\n",
    "randomf_cv = GridSearchCV(randomf, param_grid=rand_params, cv = 10, n_jobs=-1)"
   ]
  },
  {
   "cell_type": "code",
   "execution_count": 108,
   "metadata": {},
   "outputs": [
    {
     "data": {
      "text/plain": [
       "GridSearchCV(cv=10, error_score='raise-deprecating',\n",
       "       estimator=RandomForestRegressor(bootstrap=True, criterion='mse', max_depth=None,\n",
       "           max_features='auto', max_leaf_nodes=None,\n",
       "           min_impurity_decrease=0.0, min_impurity_split=None,\n",
       "           min_samples_leaf=1, min_samples_split=2,\n",
       "           min_weight_fraction_leaf=0.0, n_estimators=10, n_jobs=None,\n",
       "           oob_score=False, random_state=None, verbose=0, warm_start=False),\n",
       "       fit_params=None, iid='warn', n_jobs=-1,\n",
       "       param_grid={'n_estimators': range(5, 11), 'max_depth': range(2, 22)},\n",
       "       pre_dispatch='2*n_jobs', refit=True, return_train_score='warn',\n",
       "       scoring=None, verbose=0)"
      ]
     },
     "execution_count": 108,
     "metadata": {},
     "output_type": "execute_result"
    }
   ],
   "source": [
    "randomf_cv.fit(X_train, y_train)"
   ]
  },
  {
   "cell_type": "code",
   "execution_count": 109,
   "metadata": {},
   "outputs": [
    {
     "data": {
      "text/plain": [
       "{'max_depth': 18, 'n_estimators': 9}"
      ]
     },
     "execution_count": 109,
     "metadata": {},
     "output_type": "execute_result"
    }
   ],
   "source": [
    "randomf_cv.best_params_"
   ]
  },
  {
   "cell_type": "code",
   "execution_count": 110,
   "metadata": {},
   "outputs": [
    {
     "data": {
      "text/plain": [
       "0.7082047522846117"
      ]
     },
     "execution_count": 110,
     "metadata": {},
     "output_type": "execute_result"
    }
   ],
   "source": [
    "randomf_cv.best_score_ #Result is not good"
   ]
  },
  {
   "cell_type": "code",
   "execution_count": 111,
   "metadata": {},
   "outputs": [],
   "source": [
    "y_pred2 = randomf_cv.best_estimator_.predict(X_test)"
   ]
  },
  {
   "cell_type": "code",
   "execution_count": 112,
   "metadata": {},
   "outputs": [
    {
     "name": "stdout",
     "output_type": "stream",
     "text": [
      "1670808.857660936\n",
      "3018682.8392637796\n"
     ]
    }
   ],
   "source": [
    "print(np.sqrt(mean_squared_error(randomf_cv.best_estimator_.predict(X_train), y_train)))\n",
    "print(np.sqrt(mean_squared_error(y_pred2, y_test)))"
   ]
  },
  {
   "cell_type": "markdown",
   "metadata": {},
   "source": [
    "#Хотел на ПСА посмотреть не успел"
   ]
  },
  {
   "cell_type": "markdown",
   "metadata": {},
   "source": [
    "Результаты не очень хорошие, после грид серча все ухудшилось, нужно будет на большие естимэйторы посмотреть"
   ]
  },
  {
   "cell_type": "markdown",
   "metadata": {},
   "source": [
    "Щас работаю над градиент бустингом, после составлю модель на нейронку"
   ]
  }
 ],
 "metadata": {
  "kernelspec": {
   "display_name": "Python 3",
   "language": "python",
   "name": "python3"
  },
  "language_info": {
   "codemirror_mode": {
    "name": "ipython",
    "version": 3
   },
   "file_extension": ".py",
   "mimetype": "text/x-python",
   "name": "python",
   "nbconvert_exporter": "python",
   "pygments_lexer": "ipython3",
   "version": "3.5.6"
  }
 },
 "nbformat": 4,
 "nbformat_minor": 2
}
