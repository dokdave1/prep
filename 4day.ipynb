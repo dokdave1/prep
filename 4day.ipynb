{
 "cells": [
  {
   "cell_type": "markdown",
   "metadata": {},
   "source": [
    "while condition:\n",
    "    body"
   ]
  },
  {
   "cell_type": "code",
   "execution_count": 2,
   "metadata": {},
   "outputs": [
    {
     "name": "stdout",
     "output_type": "stream",
     "text": [
      "-3\n",
      "-2\n",
      "-1\n",
      "0\n",
      "1\n",
      "2\n",
      "3\n",
      "4\n"
     ]
    }
   ],
   "source": [
    "a = -3\n",
    "while a < 5:\n",
    "    print(a)\n",
    "    a += 1"
   ]
  },
  {
   "cell_type": "markdown",
   "metadata": {},
   "source": [
    "new"
   ]
  },
  {
   "cell_type": "code",
   "execution_count": 3,
   "metadata": {},
   "outputs": [
    {
     "name": "stdout",
     "output_type": "stream",
     "text": [
      "Enter char: +\n",
      "<class 'str'>\n"
     ]
    }
   ],
   "source": [
    "character = input(\"Enter char: \")\n",
    "print(type(character))"
   ]
  },
  {
   "cell_type": "code",
   "execution_count": 10,
   "metadata": {},
   "outputs": [
    {
     "name": "stdout",
     "output_type": "stream",
     "text": [
      "Enter a: 8\n",
      "Enter b: 0\n",
      "Enter char: /\n",
      "Something wrong\n"
     ]
    }
   ],
   "source": [
    "a = int(input(\"Enter a: \"))\n",
    "b = int(input(\"Enter b: \"))\n",
    "character = input(\"Enter char: \")\n",
    "\n",
    "if character == '+':\n",
    "    print(a+b)\n",
    "elif character == '-':\n",
    "    print(a-b)\n",
    "elif character == '*':\n",
    "    print(a*b)\n",
    "elif character == '/' and b!=0:\n",
    "    print(a/b)\n",
    "else:\n",
    "    print('Something wrong')"
   ]
  },
  {
   "cell_type": "code",
   "execution_count": 14,
   "metadata": {},
   "outputs": [
    {
     "name": "stdout",
     "output_type": "stream",
     "text": [
      "Enter a: 5\n",
      "Enter b: 0\n",
      "Enter char: /\\\n",
      "Some other character\n"
     ]
    }
   ],
   "source": [
    "a = int(input(\"Enter a: \"))\n",
    "b = int(input(\"Enter b: \"))\n",
    "character = input(\"Enter char: \")\n",
    "\n",
    "try:\n",
    "    if character == '+':\n",
    "        print(a+b)\n",
    "    elif character == '-':\n",
    "        print(a-b)\n",
    "    elif character == '*':\n",
    "        print(a*b)\n",
    "    elif character == '/':\n",
    "        print(a/b)\n",
    "    else:\n",
    "        print('Some other character')\n",
    "except:\n",
    "    print('Error has appeared!')"
   ]
  },
  {
   "cell_type": "markdown",
   "metadata": {},
   "source": [
    "new"
   ]
  },
  {
   "cell_type": "code",
   "execution_count": 2,
   "metadata": {},
   "outputs": [
    {
     "name": "stdout",
     "output_type": "stream",
     "text": [
      "Enter number: 7\n",
      " *             *  *             *\n",
      "  *           *    *           *\n",
      "   *         *      *         *\n",
      "    *       *        *       *\n",
      "     *     *          *     *\n",
      "      *   *            *   *\n",
      "       * *              * *\n",
      "        *                *\n"
     ]
    }
   ],
   "source": [
    "d1 = '*'\n",
    "d2 = ' '\n",
    "m = int(input(\"Enter number: \"))\n",
    "\n",
    "k1 = 1\n",
    "k2 = m\n",
    "\n",
    "print()\n",
    "for i in range(m):\n",
    "    print(d2*k1+d1+d2*(2*k2-1)+d1+d2*2*k1+d1+d2*(2*k2-1)+d1)\n",
    "    k1 += 1\n",
    "    k2 -= 1\n",
    "print(d2*k1+d1+2*d2*k1+d1)"
   ]
  },
  {
   "cell_type": "markdown",
   "metadata": {},
   "source": [
    "#rhombus\n",
    "#rectangle"
   ]
  },
  {
   "cell_type": "code",
   "execution_count": 3,
   "metadata": {},
   "outputs": [
    {
     "data": {
      "text/plain": [
       "True"
      ]
     },
     "execution_count": 3,
     "metadata": {},
     "output_type": "execute_result"
    }
   ],
   "source": [
    "3<4"
   ]
  },
  {
   "cell_type": "code",
   "execution_count": 4,
   "metadata": {},
   "outputs": [
    {
     "data": {
      "text/plain": [
       "True"
      ]
     },
     "execution_count": 4,
     "metadata": {},
     "output_type": "execute_result"
    }
   ],
   "source": [
    "'3'<'4'"
   ]
  },
  {
   "cell_type": "code",
   "execution_count": 5,
   "metadata": {},
   "outputs": [
    {
     "data": {
      "text/plain": [
       "True"
      ]
     },
     "execution_count": 5,
     "metadata": {},
     "output_type": "execute_result"
    }
   ],
   "source": [
    "'a'<'b'"
   ]
  },
  {
   "cell_type": "code",
   "execution_count": 6,
   "metadata": {},
   "outputs": [
    {
     "data": {
      "text/plain": [
       "True"
      ]
     },
     "execution_count": 6,
     "metadata": {},
     "output_type": "execute_result"
    }
   ],
   "source": [
    "'K'<'k'"
   ]
  },
  {
   "cell_type": "code",
   "execution_count": 10,
   "metadata": {},
   "outputs": [
    {
     "name": "stdout",
     "output_type": "stream",
     "text": [
      "d\n",
      "s\n",
      "f\n",
      "d\n",
      "f\n",
      "d\n",
      "s\n",
      "f\n"
     ]
    }
   ],
   "source": [
    "df = '5dsfd45fdsFSJKf5,.4/*-+DSOFJ46'\n",
    "for i in df:\n",
    "    if i >= 'a' and i <= 'z':\n",
    "        print(i)"
   ]
  },
  {
   "cell_type": "code",
   "execution_count": 16,
   "metadata": {},
   "outputs": [
    {
     "name": "stdout",
     "output_type": "stream",
     "text": [
      "1 is =  20\n",
      "2 is =  15\n",
      "3 is =  15\n",
      "4 is =  11\n",
      "5 is =  5\n",
      "6 is =  5\n",
      "7 is =  5\n",
      "8 is =  5\n",
      "9 is =  5\n",
      "10 is =  5\n",
      "11 is =  5\n",
      "12 is =  5\n",
      "13 is =  5\n",
      "14 is =  5\n",
      "15 is =  5\n",
      "16 is =  3\n",
      "17 is =  3\n",
      "18 is =  3\n",
      "19 is =  3\n",
      "20 is =  3\n",
      "21 is =  3\n",
      "22 is =  3\n",
      "23 is =  3\n",
      "2\n"
     ]
    }
   ],
   "source": [
    "numbers = '789235489765432149846511'\n",
    "\n",
    "counter = 1\n",
    "min1 = 20\n",
    "\n",
    "while counter < len(numbers):\n",
    "    print('{0} is = '.format(counter),min1)\n",
    "    if min1 >= (int(numbers[counter-1]) + int(numbers[counter])):\n",
    "        min1 = int(numbers[counter-1]) + int(numbers[counter])\n",
    "    counter += 1\n",
    "print(min1)"
   ]
  },
  {
   "cell_type": "code",
   "execution_count": 17,
   "metadata": {},
   "outputs": [
    {
     "name": "stdout",
     "output_type": "stream",
     "text": [
      "Enter n: 4\n",
      "1 1\n",
      "2 3\n",
      "6 9\n",
      "24 33\n"
     ]
    }
   ],
   "source": [
    "n = int(input(\"Enter n: \"))\n",
    "\n",
    "sum1 = 0\n",
    "prod1 = 1\n",
    "for i in range(1, n+1):\n",
    "    prod1 = prod1*i\n",
    "    sum1 = sum1 + prod1\n",
    "    print(prod1,sum1)"
   ]
  },
  {
   "cell_type": "code",
   "execution_count": 18,
   "metadata": {},
   "outputs": [
    {
     "name": "stdout",
     "output_type": "stream",
     "text": [
      "Enter n: 4\n",
      "1 1.0\n",
      "2 1.5\n",
      "6 1.6666666666666667\n",
      "24 1.7083333333333335\n"
     ]
    }
   ],
   "source": [
    "n = int(input(\"Enter n: \"))\n",
    "\n",
    "sum1 = 0\n",
    "prod1 = 1\n",
    "for i in range(1, n+1):\n",
    "    prod1 = prod1*i\n",
    "    sum1 = sum1 + 1/prod1\n",
    "    print(prod1,sum1)"
   ]
  },
  {
   "cell_type": "code",
   "execution_count": null,
   "metadata": {},
   "outputs": [],
   "source": []
  }
 ],
 "metadata": {
  "kernelspec": {
   "display_name": "Python 3",
   "language": "python",
   "name": "python3"
  },
  "language_info": {
   "codemirror_mode": {
    "name": "ipython",
    "version": 3
   },
   "file_extension": ".py",
   "mimetype": "text/x-python",
   "name": "python",
   "nbconvert_exporter": "python",
   "pygments_lexer": "ipython3",
   "version": "3.5.6"
  }
 },
 "nbformat": 4,
 "nbformat_minor": 2
}
