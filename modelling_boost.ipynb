{
 "cells": [
  {
   "cell_type": "code",
   "execution_count": 1,
   "metadata": {},
   "outputs": [],
   "source": [
    "import pandas as pd\n",
    "import numpy as np\n",
    "import matplotlib.pyplot as plt\n",
    "%matplotlib inline"
   ]
  },
  {
   "cell_type": "code",
   "execution_count": 2,
   "metadata": {},
   "outputs": [
    {
     "data": {
      "text/html": [
       "<div>\n",
       "<style scoped>\n",
       "    .dataframe tbody tr th:only-of-type {\n",
       "        vertical-align: middle;\n",
       "    }\n",
       "\n",
       "    .dataframe tbody tr th {\n",
       "        vertical-align: top;\n",
       "    }\n",
       "\n",
       "    .dataframe thead th {\n",
       "        text-align: right;\n",
       "    }\n",
       "</style>\n",
       "<table border=\"1\" class=\"dataframe\">\n",
       "  <thead>\n",
       "    <tr style=\"text-align: right;\">\n",
       "      <th></th>\n",
       "      <th>Price</th>\n",
       "      <th>Year</th>\n",
       "      <th>Город</th>\n",
       "      <th>Коробка передач</th>\n",
       "      <th>Кузов</th>\n",
       "      <th>Привод</th>\n",
       "      <th>Пробег</th>\n",
       "      <th>Растаможен</th>\n",
       "      <th>Руль</th>\n",
       "      <th>Цвет</th>\n",
       "      <th>Names</th>\n",
       "      <th>Volume</th>\n",
       "      <th>Fuel_type</th>\n",
       "    </tr>\n",
       "  </thead>\n",
       "  <tbody>\n",
       "    <tr>\n",
       "      <th>0</th>\n",
       "      <td>13800000</td>\n",
       "      <td>2018</td>\n",
       "      <td>Алматы</td>\n",
       "      <td>автомат</td>\n",
       "      <td>седан</td>\n",
       "      <td>передний привод</td>\n",
       "      <td>1.0</td>\n",
       "      <td>Да</td>\n",
       "      <td>слева</td>\n",
       "      <td>серебристый металлик</td>\n",
       "      <td>Toyota Camry</td>\n",
       "      <td>2.5</td>\n",
       "      <td>бензин</td>\n",
       "    </tr>\n",
       "    <tr>\n",
       "      <th>1</th>\n",
       "      <td>68000000</td>\n",
       "      <td>2014</td>\n",
       "      <td>Алматы</td>\n",
       "      <td>автомат</td>\n",
       "      <td>внедорожник</td>\n",
       "      <td>NaN</td>\n",
       "      <td>10300.0</td>\n",
       "      <td>Да</td>\n",
       "      <td>слева</td>\n",
       "      <td>черный</td>\n",
       "      <td>Mercedes-Benz G 63 AMG</td>\n",
       "      <td>5.5</td>\n",
       "      <td>бензин</td>\n",
       "    </tr>\n",
       "    <tr>\n",
       "      <th>2</th>\n",
       "      <td>5499999</td>\n",
       "      <td>2013</td>\n",
       "      <td>Алматы</td>\n",
       "      <td>автомат</td>\n",
       "      <td>седан</td>\n",
       "      <td>передний привод</td>\n",
       "      <td>39258.0</td>\n",
       "      <td>Да</td>\n",
       "      <td>слева</td>\n",
       "      <td>серый металлик</td>\n",
       "      <td>Toyota Corolla</td>\n",
       "      <td>1.6</td>\n",
       "      <td>бензин</td>\n",
       "    </tr>\n",
       "    <tr>\n",
       "      <th>3</th>\n",
       "      <td>1850000</td>\n",
       "      <td>1993</td>\n",
       "      <td>Шымкент</td>\n",
       "      <td>автомат</td>\n",
       "      <td>седан</td>\n",
       "      <td>задний привод</td>\n",
       "      <td>NaN</td>\n",
       "      <td>Да</td>\n",
       "      <td>слева</td>\n",
       "      <td>серый металлик</td>\n",
       "      <td>Mercedes-Benz E 220</td>\n",
       "      <td>2.2</td>\n",
       "      <td>газ-бензин</td>\n",
       "    </tr>\n",
       "    <tr>\n",
       "      <th>4</th>\n",
       "      <td>6100000</td>\n",
       "      <td>2013</td>\n",
       "      <td>Актобе</td>\n",
       "      <td>автомат</td>\n",
       "      <td>кроссовер</td>\n",
       "      <td>полный привод</td>\n",
       "      <td>60000.0</td>\n",
       "      <td>Да</td>\n",
       "      <td>слева</td>\n",
       "      <td>серый</td>\n",
       "      <td>Mitsubishi Outlander</td>\n",
       "      <td>2.4</td>\n",
       "      <td>бензин</td>\n",
       "    </tr>\n",
       "  </tbody>\n",
       "</table>\n",
       "</div>"
      ],
      "text/plain": [
       "      Price  Year    Город Коробка передач        Кузов           Привод  \\\n",
       "0  13800000  2018   Алматы         автомат        седан  передний привод   \n",
       "1  68000000  2014   Алматы         автомат  внедорожник              NaN   \n",
       "2   5499999  2013   Алматы         автомат        седан  передний привод   \n",
       "3   1850000  1993  Шымкент         автомат        седан    задний привод   \n",
       "4   6100000  2013   Актобе         автомат    кроссовер    полный привод   \n",
       "\n",
       "    Пробег Растаможен   Руль                  Цвет                   Names  \\\n",
       "0      1.0         Да  слева  серебристый металлик            Toyota Camry   \n",
       "1  10300.0         Да  слева                черный  Mercedes-Benz G 63 AMG   \n",
       "2  39258.0         Да  слева        серый металлик          Toyota Corolla   \n",
       "3      NaN         Да  слева        серый металлик     Mercedes-Benz E 220   \n",
       "4  60000.0         Да  слева                 серый    Mitsubishi Outlander   \n",
       "\n",
       "   Volume   Fuel_type  \n",
       "0     2.5      бензин  \n",
       "1     5.5      бензин  \n",
       "2     1.6      бензин  \n",
       "3     2.2  газ-бензин  \n",
       "4     2.4      бензин  "
      ]
     },
     "execution_count": 2,
     "metadata": {},
     "output_type": "execute_result"
    }
   ],
   "source": [
    "data = pd.read_csv('data_random_forest.csv')\n",
    "data.head()"
   ]
  },
  {
   "cell_type": "code",
   "execution_count": 3,
   "metadata": {},
   "outputs": [
    {
     "data": {
      "text/html": [
       "<div>\n",
       "<style scoped>\n",
       "    .dataframe tbody tr th:only-of-type {\n",
       "        vertical-align: middle;\n",
       "    }\n",
       "\n",
       "    .dataframe tbody tr th {\n",
       "        vertical-align: top;\n",
       "    }\n",
       "\n",
       "    .dataframe thead th {\n",
       "        text-align: right;\n",
       "    }\n",
       "</style>\n",
       "<table border=\"1\" class=\"dataframe\">\n",
       "  <thead>\n",
       "    <tr style=\"text-align: right;\">\n",
       "      <th></th>\n",
       "      <th>Year</th>\n",
       "      <th>Город</th>\n",
       "      <th>Коробка передач</th>\n",
       "      <th>Кузов</th>\n",
       "      <th>Привод</th>\n",
       "      <th>Пробег</th>\n",
       "      <th>Растаможен</th>\n",
       "      <th>Руль</th>\n",
       "      <th>Цвет</th>\n",
       "      <th>Volume</th>\n",
       "      <th>Fuel_type</th>\n",
       "    </tr>\n",
       "  </thead>\n",
       "  <tbody>\n",
       "    <tr>\n",
       "      <th>0</th>\n",
       "      <td>2018</td>\n",
       "      <td>Алматы</td>\n",
       "      <td>автомат</td>\n",
       "      <td>седан</td>\n",
       "      <td>передний привод</td>\n",
       "      <td>1.0</td>\n",
       "      <td>Да</td>\n",
       "      <td>слева</td>\n",
       "      <td>серебристый металлик</td>\n",
       "      <td>2.5</td>\n",
       "      <td>бензин</td>\n",
       "    </tr>\n",
       "    <tr>\n",
       "      <th>1</th>\n",
       "      <td>2014</td>\n",
       "      <td>Алматы</td>\n",
       "      <td>автомат</td>\n",
       "      <td>внедорожник</td>\n",
       "      <td>NaN</td>\n",
       "      <td>10300.0</td>\n",
       "      <td>Да</td>\n",
       "      <td>слева</td>\n",
       "      <td>черный</td>\n",
       "      <td>5.5</td>\n",
       "      <td>бензин</td>\n",
       "    </tr>\n",
       "    <tr>\n",
       "      <th>2</th>\n",
       "      <td>2013</td>\n",
       "      <td>Алматы</td>\n",
       "      <td>автомат</td>\n",
       "      <td>седан</td>\n",
       "      <td>передний привод</td>\n",
       "      <td>39258.0</td>\n",
       "      <td>Да</td>\n",
       "      <td>слева</td>\n",
       "      <td>серый металлик</td>\n",
       "      <td>1.6</td>\n",
       "      <td>бензин</td>\n",
       "    </tr>\n",
       "    <tr>\n",
       "      <th>3</th>\n",
       "      <td>1993</td>\n",
       "      <td>Шымкент</td>\n",
       "      <td>автомат</td>\n",
       "      <td>седан</td>\n",
       "      <td>задний привод</td>\n",
       "      <td>NaN</td>\n",
       "      <td>Да</td>\n",
       "      <td>слева</td>\n",
       "      <td>серый металлик</td>\n",
       "      <td>2.2</td>\n",
       "      <td>газ-бензин</td>\n",
       "    </tr>\n",
       "    <tr>\n",
       "      <th>4</th>\n",
       "      <td>2013</td>\n",
       "      <td>Актобе</td>\n",
       "      <td>автомат</td>\n",
       "      <td>кроссовер</td>\n",
       "      <td>полный привод</td>\n",
       "      <td>60000.0</td>\n",
       "      <td>Да</td>\n",
       "      <td>слева</td>\n",
       "      <td>серый</td>\n",
       "      <td>2.4</td>\n",
       "      <td>бензин</td>\n",
       "    </tr>\n",
       "  </tbody>\n",
       "</table>\n",
       "</div>"
      ],
      "text/plain": [
       "   Year    Город Коробка передач        Кузов           Привод   Пробег  \\\n",
       "0  2018   Алматы         автомат        седан  передний привод      1.0   \n",
       "1  2014   Алматы         автомат  внедорожник              NaN  10300.0   \n",
       "2  2013   Алматы         автомат        седан  передний привод  39258.0   \n",
       "3  1993  Шымкент         автомат        седан    задний привод      NaN   \n",
       "4  2013   Актобе         автомат    кроссовер    полный привод  60000.0   \n",
       "\n",
       "  Растаможен   Руль                  Цвет  Volume   Fuel_type  \n",
       "0         Да  слева  серебристый металлик     2.5      бензин  \n",
       "1         Да  слева                черный     5.5      бензин  \n",
       "2         Да  слева        серый металлик     1.6      бензин  \n",
       "3         Да  слева        серый металлик     2.2  газ-бензин  \n",
       "4         Да  слева                 серый     2.4      бензин  "
      ]
     },
     "execution_count": 3,
     "metadata": {},
     "output_type": "execute_result"
    }
   ],
   "source": [
    "y = data['Price']\n",
    "data = data.drop(columns=['Names', 'Price'], axis=1)\n",
    "data.head()"
   ]
  },
  {
   "cell_type": "code",
   "execution_count": 4,
   "metadata": {},
   "outputs": [
    {
     "name": "stdout",
     "output_type": "stream",
     "text": [
      "<class 'pandas.core.frame.DataFrame'>\n",
      "RangeIndex: 4997 entries, 0 to 4996\n",
      "Data columns (total 11 columns):\n",
      "Year               4997 non-null int64\n",
      "Город              4997 non-null object\n",
      "Коробка передач    4997 non-null object\n",
      "Кузов              4997 non-null object\n",
      "Привод             4405 non-null object\n",
      "Пробег             3276 non-null float64\n",
      "Растаможен         4997 non-null object\n",
      "Руль               4952 non-null object\n",
      "Цвет               4596 non-null object\n",
      "Volume             4995 non-null float64\n",
      "Fuel_type          4995 non-null object\n",
      "dtypes: float64(2), int64(1), object(8)\n",
      "memory usage: 429.5+ KB\n"
     ]
    }
   ],
   "source": [
    "data.info()"
   ]
  },
  {
   "cell_type": "code",
   "execution_count": 5,
   "metadata": {},
   "outputs": [
    {
     "data": {
      "text/plain": [
       "array(['nan', 'задний привод', 'передний привод', 'полный привод'],\n",
       "      dtype='<U15')"
      ]
     },
     "execution_count": 5,
     "metadata": {},
     "output_type": "execute_result"
    }
   ],
   "source": [
    "np.unique(list(data['Привод']))"
   ]
  },
  {
   "cell_type": "code",
   "execution_count": 6,
   "metadata": {},
   "outputs": [
    {
     "name": "stdout",
     "output_type": "stream",
     "text": [
      "<class 'pandas.core.frame.DataFrame'>\n",
      "RangeIndex: 4997 entries, 0 to 4996\n",
      "Data columns (total 11 columns):\n",
      "Year               4997 non-null object\n",
      "Город              4997 non-null object\n",
      "Коробка передач    4997 non-null object\n",
      "Кузов              4997 non-null object\n",
      "Привод             4997 non-null object\n",
      "Пробег             4997 non-null float64\n",
      "Растаможен         4997 non-null object\n",
      "Руль               4997 non-null object\n",
      "Цвет               4997 non-null object\n",
      "Volume             4997 non-null float64\n",
      "Fuel_type          4997 non-null object\n",
      "dtypes: float64(2), object(9)\n",
      "memory usage: 429.5+ KB\n"
     ]
    }
   ],
   "source": [
    "data['Year'] = data['Year'].apply(str)\n",
    "data['Пробег'] = data['Пробег'].fillna(data['Пробег'].median())\n",
    "data['Volume'] = data['Volume'].fillna(data['Volume'].median())\n",
    "data['Fuel_type'] = data['Fuel_type'].fillna(0)\n",
    "data['Привод'] = data['Привод'].fillna('полный привод')\n",
    "data['Руль'] = data['Руль'].fillna('слева')\n",
    "data['Цвет'] = data['Цвет'].fillna('белый')\n",
    "data.info()"
   ]
  },
  {
   "cell_type": "markdown",
   "metadata": {},
   "source": [
    "data"
   ]
  },
  {
   "cell_type": "code",
   "execution_count": 7,
   "metadata": {},
   "outputs": [
    {
     "data": {
      "text/plain": [
       "array(['1953', '1961', '1964', '1966', '1969', '1977', '1979', '1981',\n",
       "       '1982', '1983', '1984', '1985', '1986', '1987', '1988', '1989',\n",
       "       '1990', '1991', '1992', '1993', '1994', '1995', '1996', '1997',\n",
       "       '1998', '1999', '2000', '2001', '2002', '2003', '2004', '2005',\n",
       "       '2006', '2007', '2008', '2009', '2010', '2011', '2012', '2013',\n",
       "       '2014', '2015', '2016', '2017', '2018'], dtype='<U4')"
      ]
     },
     "execution_count": 7,
     "metadata": {},
     "output_type": "execute_result"
    }
   ],
   "source": [
    "year_list = np.unique(list(data['Year']))\n",
    "year_list"
   ]
  },
  {
   "cell_type": "code",
   "execution_count": 8,
   "metadata": {},
   "outputs": [],
   "source": [
    "counter = 1\n",
    "for i in list(year_list):\n",
    "    data['Year'].replace(i, counter, inplace=True)\n",
    "    counter +=1"
   ]
  },
  {
   "cell_type": "code",
   "execution_count": 9,
   "metadata": {},
   "outputs": [
    {
     "data": {
      "text/html": [
       "<div>\n",
       "<style scoped>\n",
       "    .dataframe tbody tr th:only-of-type {\n",
       "        vertical-align: middle;\n",
       "    }\n",
       "\n",
       "    .dataframe tbody tr th {\n",
       "        vertical-align: top;\n",
       "    }\n",
       "\n",
       "    .dataframe thead th {\n",
       "        text-align: right;\n",
       "    }\n",
       "</style>\n",
       "<table border=\"1\" class=\"dataframe\">\n",
       "  <thead>\n",
       "    <tr style=\"text-align: right;\">\n",
       "      <th></th>\n",
       "      <th>Year</th>\n",
       "      <th>Город</th>\n",
       "      <th>Коробка передач</th>\n",
       "      <th>Кузов</th>\n",
       "      <th>Привод</th>\n",
       "      <th>Пробег</th>\n",
       "      <th>Растаможен</th>\n",
       "      <th>Руль</th>\n",
       "      <th>Цвет</th>\n",
       "      <th>Volume</th>\n",
       "      <th>Fuel_type</th>\n",
       "    </tr>\n",
       "  </thead>\n",
       "  <tbody>\n",
       "    <tr>\n",
       "      <th>0</th>\n",
       "      <td>45</td>\n",
       "      <td>Алматы</td>\n",
       "      <td>автомат</td>\n",
       "      <td>седан</td>\n",
       "      <td>передний привод</td>\n",
       "      <td>1.0</td>\n",
       "      <td>Да</td>\n",
       "      <td>слева</td>\n",
       "      <td>серебристый металлик</td>\n",
       "      <td>2.5</td>\n",
       "      <td>бензин</td>\n",
       "    </tr>\n",
       "    <tr>\n",
       "      <th>1</th>\n",
       "      <td>41</td>\n",
       "      <td>Алматы</td>\n",
       "      <td>автомат</td>\n",
       "      <td>внедорожник</td>\n",
       "      <td>полный привод</td>\n",
       "      <td>10300.0</td>\n",
       "      <td>Да</td>\n",
       "      <td>слева</td>\n",
       "      <td>черный</td>\n",
       "      <td>5.5</td>\n",
       "      <td>бензин</td>\n",
       "    </tr>\n",
       "    <tr>\n",
       "      <th>2</th>\n",
       "      <td>40</td>\n",
       "      <td>Алматы</td>\n",
       "      <td>автомат</td>\n",
       "      <td>седан</td>\n",
       "      <td>передний привод</td>\n",
       "      <td>39258.0</td>\n",
       "      <td>Да</td>\n",
       "      <td>слева</td>\n",
       "      <td>серый металлик</td>\n",
       "      <td>1.6</td>\n",
       "      <td>бензин</td>\n",
       "    </tr>\n",
       "    <tr>\n",
       "      <th>3</th>\n",
       "      <td>20</td>\n",
       "      <td>Шымкент</td>\n",
       "      <td>автомат</td>\n",
       "      <td>седан</td>\n",
       "      <td>задний привод</td>\n",
       "      <td>120000.0</td>\n",
       "      <td>Да</td>\n",
       "      <td>слева</td>\n",
       "      <td>серый металлик</td>\n",
       "      <td>2.2</td>\n",
       "      <td>газ-бензин</td>\n",
       "    </tr>\n",
       "    <tr>\n",
       "      <th>4</th>\n",
       "      <td>40</td>\n",
       "      <td>Актобе</td>\n",
       "      <td>автомат</td>\n",
       "      <td>кроссовер</td>\n",
       "      <td>полный привод</td>\n",
       "      <td>60000.0</td>\n",
       "      <td>Да</td>\n",
       "      <td>слева</td>\n",
       "      <td>серый</td>\n",
       "      <td>2.4</td>\n",
       "      <td>бензин</td>\n",
       "    </tr>\n",
       "  </tbody>\n",
       "</table>\n",
       "</div>"
      ],
      "text/plain": [
       "   Year    Город Коробка передач        Кузов           Привод    Пробег  \\\n",
       "0    45   Алматы         автомат        седан  передний привод       1.0   \n",
       "1    41   Алматы         автомат  внедорожник    полный привод   10300.0   \n",
       "2    40   Алматы         автомат        седан  передний привод   39258.0   \n",
       "3    20  Шымкент         автомат        седан    задний привод  120000.0   \n",
       "4    40   Актобе         автомат    кроссовер    полный привод   60000.0   \n",
       "\n",
       "  Растаможен   Руль                  Цвет  Volume   Fuel_type  \n",
       "0         Да  слева  серебристый металлик     2.5      бензин  \n",
       "1         Да  слева                черный     5.5      бензин  \n",
       "2         Да  слева        серый металлик     1.6      бензин  \n",
       "3         Да  слева        серый металлик     2.2  газ-бензин  \n",
       "4         Да  слева                 серый     2.4      бензин  "
      ]
     },
     "execution_count": 9,
     "metadata": {},
     "output_type": "execute_result"
    }
   ],
   "source": [
    "data.head()"
   ]
  },
  {
   "cell_type": "code",
   "execution_count": 10,
   "metadata": {},
   "outputs": [],
   "source": [
    "counter = 1\n",
    "for i in np.unique(list(data['Город'])):\n",
    "    data['Город'].replace(i, counter, inplace=True)\n",
    "    counter +=1"
   ]
  },
  {
   "cell_type": "code",
   "execution_count": 11,
   "metadata": {},
   "outputs": [],
   "source": [
    "counter = 1\n",
    "for i in np.unique(list(data['Коробка передач'])):\n",
    "    data['Коробка передач'].replace(i, counter, inplace=True)\n",
    "    counter +=1\n",
    "\n",
    "counter = 1\n",
    "for i in np.unique(list(data['Кузов'])):\n",
    "    data['Кузов'].replace(i, counter, inplace=True)\n",
    "    counter +=1\n",
    "    \n",
    "counter = 1\n",
    "for i in np.unique(list(data['Растаможен'])):\n",
    "    data['Растаможен'].replace(i, counter, inplace=True)\n",
    "    counter +=1\n",
    "\n",
    "counter = 1\n",
    "for i in np.unique(list(data['Привод'])):\n",
    "    data['Привод'].replace(i, counter, inplace=True)\n",
    "    counter +=1\n",
    "    \n",
    "counter = 1\n",
    "for i in np.unique(list(data['Руль'])):\n",
    "    data['Руль'].replace(i, counter, inplace=True)\n",
    "    counter +=1\n",
    "\n",
    "counter = 1\n",
    "for i in np.unique(list(data['Цвет'])):\n",
    "    data['Цвет'].replace(i, counter, inplace=True)\n",
    "    counter +=1\n",
    "    \n",
    "counter = 1\n",
    "for i in np.unique(list(data['Fuel_type'])):\n",
    "    data['Fuel_type'].replace(i, counter, inplace=True)\n",
    "    counter +=1"
   ]
  },
  {
   "cell_type": "code",
   "execution_count": 12,
   "metadata": {},
   "outputs": [
    {
     "data": {
      "text/html": [
       "<div>\n",
       "<style scoped>\n",
       "    .dataframe tbody tr th:only-of-type {\n",
       "        vertical-align: middle;\n",
       "    }\n",
       "\n",
       "    .dataframe tbody tr th {\n",
       "        vertical-align: top;\n",
       "    }\n",
       "\n",
       "    .dataframe thead th {\n",
       "        text-align: right;\n",
       "    }\n",
       "</style>\n",
       "<table border=\"1\" class=\"dataframe\">\n",
       "  <thead>\n",
       "    <tr style=\"text-align: right;\">\n",
       "      <th></th>\n",
       "      <th>Year</th>\n",
       "      <th>Город</th>\n",
       "      <th>Коробка передач</th>\n",
       "      <th>Кузов</th>\n",
       "      <th>Привод</th>\n",
       "      <th>Пробег</th>\n",
       "      <th>Растаможен</th>\n",
       "      <th>Руль</th>\n",
       "      <th>Цвет</th>\n",
       "      <th>Volume</th>\n",
       "      <th>Fuel_type</th>\n",
       "    </tr>\n",
       "  </thead>\n",
       "  <tbody>\n",
       "    <tr>\n",
       "      <th>0</th>\n",
       "      <td>45</td>\n",
       "      <td>11</td>\n",
       "      <td>1</td>\n",
       "      <td>11</td>\n",
       "      <td>2</td>\n",
       "      <td>1.0</td>\n",
       "      <td>1</td>\n",
       "      <td>1</td>\n",
       "      <td>28</td>\n",
       "      <td>2.5</td>\n",
       "      <td>2</td>\n",
       "    </tr>\n",
       "    <tr>\n",
       "      <th>1</th>\n",
       "      <td>41</td>\n",
       "      <td>11</td>\n",
       "      <td>1</td>\n",
       "      <td>1</td>\n",
       "      <td>3</td>\n",
       "      <td>10300.0</td>\n",
       "      <td>1</td>\n",
       "      <td>1</td>\n",
       "      <td>39</td>\n",
       "      <td>5.5</td>\n",
       "      <td>2</td>\n",
       "    </tr>\n",
       "    <tr>\n",
       "      <th>2</th>\n",
       "      <td>40</td>\n",
       "      <td>11</td>\n",
       "      <td>1</td>\n",
       "      <td>11</td>\n",
       "      <td>2</td>\n",
       "      <td>39258.0</td>\n",
       "      <td>1</td>\n",
       "      <td>1</td>\n",
       "      <td>30</td>\n",
       "      <td>1.6</td>\n",
       "      <td>2</td>\n",
       "    </tr>\n",
       "    <tr>\n",
       "      <th>3</th>\n",
       "      <td>20</td>\n",
       "      <td>135</td>\n",
       "      <td>1</td>\n",
       "      <td>11</td>\n",
       "      <td>1</td>\n",
       "      <td>120000.0</td>\n",
       "      <td>1</td>\n",
       "      <td>1</td>\n",
       "      <td>30</td>\n",
       "      <td>2.2</td>\n",
       "      <td>4</td>\n",
       "    </tr>\n",
       "    <tr>\n",
       "      <th>4</th>\n",
       "      <td>40</td>\n",
       "      <td>10</td>\n",
       "      <td>1</td>\n",
       "      <td>3</td>\n",
       "      <td>3</td>\n",
       "      <td>60000.0</td>\n",
       "      <td>1</td>\n",
       "      <td>1</td>\n",
       "      <td>29</td>\n",
       "      <td>2.4</td>\n",
       "      <td>2</td>\n",
       "    </tr>\n",
       "  </tbody>\n",
       "</table>\n",
       "</div>"
      ],
      "text/plain": [
       "   Year  Город  Коробка передач  Кузов  Привод    Пробег  Растаможен  Руль  \\\n",
       "0    45     11                1     11       2       1.0           1     1   \n",
       "1    41     11                1      1       3   10300.0           1     1   \n",
       "2    40     11                1     11       2   39258.0           1     1   \n",
       "3    20    135                1     11       1  120000.0           1     1   \n",
       "4    40     10                1      3       3   60000.0           1     1   \n",
       "\n",
       "   Цвет  Volume  Fuel_type  \n",
       "0    28     2.5          2  \n",
       "1    39     5.5          2  \n",
       "2    30     1.6          2  \n",
       "3    30     2.2          4  \n",
       "4    29     2.4          2  "
      ]
     },
     "execution_count": 12,
     "metadata": {},
     "output_type": "execute_result"
    }
   ],
   "source": [
    "data.head()"
   ]
  },
  {
   "cell_type": "markdown",
   "metadata": {},
   "source": [
    "modelling"
   ]
  },
  {
   "cell_type": "code",
   "execution_count": 13,
   "metadata": {},
   "outputs": [],
   "source": [
    "from sklearn.model_selection import train_test_split\n",
    "from sklearn.model_selection import GridSearchCV\n",
    "from sklearn.tree import DecisionTreeRegressor\n",
    "from sklearn.ensemble import GradientBoostingRegressor, AdaBoostRegressor"
   ]
  },
  {
   "cell_type": "code",
   "execution_count": 14,
   "metadata": {},
   "outputs": [],
   "source": [
    "X_train, X_test, y_train, y_test = train_test_split(data, y, test_size = 0.3, random_state = 42)"
   ]
  },
  {
   "cell_type": "markdown",
   "metadata": {},
   "source": [
    "Decision Tree"
   ]
  },
  {
   "cell_type": "code",
   "execution_count": 15,
   "metadata": {},
   "outputs": [],
   "source": [
    "tree = DecisionTreeRegressor()\n",
    "tree.fit(X_train, y_train)\n",
    "y_pred = tree.predict(X_test)"
   ]
  },
  {
   "cell_type": "code",
   "execution_count": 16,
   "metadata": {},
   "outputs": [],
   "source": [
    "from sklearn.metrics import mean_absolute_error, r2_score"
   ]
  },
  {
   "cell_type": "code",
   "execution_count": 17,
   "metadata": {},
   "outputs": [
    {
     "name": "stdout",
     "output_type": "stream",
     "text": [
      "MAE test:  1499997.6922222222\n",
      "MAE train:  26334.25475804658\n"
     ]
    }
   ],
   "source": [
    "print('MAE test: ', mean_absolute_error(y_pred, y_test))\n",
    "print('MAE train: ', mean_absolute_error(tree.predict(X_train), y_train))"
   ]
  },
  {
   "cell_type": "code",
   "execution_count": 18,
   "metadata": {},
   "outputs": [
    {
     "name": "stdout",
     "output_type": "stream",
     "text": [
      "R2 test:  0.7177482588838329\n",
      "R2 train:  0.9980765673660656\n"
     ]
    }
   ],
   "source": [
    "print('R2 test: ', r2_score(y_pred, y_test))\n",
    "print('R2 train: ', r2_score(tree.predict(X_train), y_train))"
   ]
  },
  {
   "cell_type": "markdown",
   "metadata": {},
   "source": [
    "Adaboost"
   ]
  },
  {
   "cell_type": "code",
   "execution_count": 23,
   "metadata": {},
   "outputs": [],
   "source": [
    "AdaBoostRegressor?"
   ]
  },
  {
   "cell_type": "code",
   "execution_count": 20,
   "metadata": {},
   "outputs": [],
   "source": [
    "tree = DecisionTreeRegressor(max_depth=2)\n",
    "boost = AdaBoostRegressor(base_estimator = tree)"
   ]
  },
  {
   "cell_type": "code",
   "execution_count": 21,
   "metadata": {},
   "outputs": [],
   "source": [
    "boost.fit(X_train, y_train)\n",
    "y_pred_test = boost.predict(X_test)\n",
    "y_pred_train = boost.predict(X_train)"
   ]
  },
  {
   "cell_type": "code",
   "execution_count": 22,
   "metadata": {},
   "outputs": [
    {
     "name": "stdout",
     "output_type": "stream",
     "text": [
      "MAE test:  3901462.3121304894\n",
      "MAE train:  3869931.033110573\n"
     ]
    }
   ],
   "source": [
    "print('MAE test: ', mean_absolute_error(y_pred_test, y_test))\n",
    "print('MAE train: ', mean_absolute_error(y_pred_train, y_train))"
   ]
  },
  {
   "cell_type": "markdown",
   "metadata": {},
   "source": [
    "Tuning hyperparameters with Grid search and cross val with boosting"
   ]
  },
  {
   "cell_type": "code",
   "execution_count": 25,
   "metadata": {},
   "outputs": [],
   "source": [
    "params = {'n_estimators': np.arange(10,1001,10), 'learning_rate': np.arange(0.1, 2.1, 0.1), 'loss': ['linear', 'square', 'exponential']}"
   ]
  },
  {
   "cell_type": "code",
   "execution_count": 26,
   "metadata": {},
   "outputs": [],
   "source": [
    "GridSearchCV?"
   ]
  },
  {
   "cell_type": "code",
   "execution_count": 27,
   "metadata": {},
   "outputs": [],
   "source": [
    "tree = DecisionTreeRegressor(max_depth=2)\n",
    "boost = AdaBoostRegressor(base_estimator = tree)\n",
    "\n",
    "grid = GridSearchCV(estimator=boost, param_grid=params, cv = 5, \n",
    "                   n_jobs = -1, verbose=1)"
   ]
  },
  {
   "cell_type": "code",
   "execution_count": 28,
   "metadata": {},
   "outputs": [
    {
     "name": "stdout",
     "output_type": "stream",
     "text": [
      "Fitting 5 folds for each of 2000 candidates, totalling 10000 fits\n"
     ]
    },
    {
     "name": "stderr",
     "output_type": "stream",
     "text": [
      "[Parallel(n_jobs=-1)]: Using backend LokyBackend with 4 concurrent workers.\n",
      "[Parallel(n_jobs=-1)]: Done  42 tasks      | elapsed:    5.8s\n",
      "[Parallel(n_jobs=-1)]: Done 192 tasks      | elapsed:   43.6s\n",
      "[Parallel(n_jobs=-1)]: Done 442 tasks      | elapsed:  2.6min\n",
      "[Parallel(n_jobs=-1)]: Done 792 tasks      | elapsed:  4.1min\n",
      "[Parallel(n_jobs=-1)]: Done 1242 tasks      | elapsed:  5.7min\n",
      "[Parallel(n_jobs=-1)]: Done 1792 tasks      | elapsed:  7.4min\n",
      "[Parallel(n_jobs=-1)]: Done 2442 tasks      | elapsed:  9.1min\n",
      "[Parallel(n_jobs=-1)]: Done 3192 tasks      | elapsed: 10.9min\n",
      "[Parallel(n_jobs=-1)]: Done 4042 tasks      | elapsed: 12.8min\n",
      "[Parallel(n_jobs=-1)]: Done 4992 tasks      | elapsed: 14.7min\n",
      "[Parallel(n_jobs=-1)]: Done 6042 tasks      | elapsed: 16.4min\n",
      "[Parallel(n_jobs=-1)]: Done 7192 tasks      | elapsed: 18.6min\n",
      "[Parallel(n_jobs=-1)]: Done 8442 tasks      | elapsed: 21.4min\n",
      "[Parallel(n_jobs=-1)]: Done 9792 tasks      | elapsed: 24.1min\n",
      "[Parallel(n_jobs=-1)]: Done 10000 out of 10000 | elapsed: 24.7min finished\n",
      "C:\\Users\\zhang\\Anaconda3\\lib\\site-packages\\sklearn\\model_selection\\_search.py:841: DeprecationWarning: The default of the `iid` parameter will change from True to False in version 0.22 and will be removed in 0.24. This will change numeric results when test-set sizes are unequal.\n",
      "  DeprecationWarning)\n"
     ]
    },
    {
     "data": {
      "text/plain": [
       "GridSearchCV(cv=5, error_score='raise-deprecating',\n",
       "       estimator=AdaBoostRegressor(base_estimator=DecisionTreeRegressor(criterion='mse', max_depth=2, max_features=None,\n",
       "           max_leaf_nodes=None, min_impurity_decrease=0.0,\n",
       "           min_impurity_split=None, min_samples_leaf=1,\n",
       "           min_samples_split=2, min_weight_fraction_leaf=0.0,\n",
       "           presort=False, random_state=None, splitter='best'),\n",
       "         learning_rate=1.0, loss='linear', n_estimators=50,\n",
       "         random_state=None),\n",
       "       fit_params=None, iid='warn', n_jobs=-1,\n",
       "       param_grid={'n_estimators': array([  10,   20, ...,  990, 1000]), 'learning_rate': array([0.1, 0.2, 0.3, 0.4, 0.5, 0.6, 0.7, 0.8, 0.9, 1. , 1.1, 1.2, 1.3,\n",
       "       1.4, 1.5, 1.6, 1.7, 1.8, 1.9, 2. ])},\n",
       "       pre_dispatch='2*n_jobs', refit=True, return_train_score='warn',\n",
       "       scoring=None, verbose=1)"
      ]
     },
     "execution_count": 28,
     "metadata": {},
     "output_type": "execute_result"
    }
   ],
   "source": [
    "grid.fit(X_train, y_train)"
   ]
  },
  {
   "cell_type": "code",
   "execution_count": 31,
   "metadata": {},
   "outputs": [
    {
     "data": {
      "text/plain": [
       "{'learning_rate': 0.2, 'n_estimators': 10}"
      ]
     },
     "execution_count": 31,
     "metadata": {},
     "output_type": "execute_result"
    }
   ],
   "source": [
    "grid.best_params_"
   ]
  },
  {
   "cell_type": "code",
   "execution_count": 32,
   "metadata": {},
   "outputs": [],
   "source": [
    "y_pred_train_best = grid.best_estimator_.predict(X_train)\n",
    "y_pred_test_best = grid.best_estimator_.predict(X_test)"
   ]
  },
  {
   "cell_type": "code",
   "execution_count": 33,
   "metadata": {},
   "outputs": [
    {
     "name": "stdout",
     "output_type": "stream",
     "text": [
      "MAE test with GSV:  2743987.1198835857\n",
      "MAE train with GSV:  2829078.748196364\n"
     ]
    }
   ],
   "source": [
    "print('MAE test with GSV: ', mean_absolute_error(y_pred_test_best, y_test))\n",
    "print('MAE train with GSV: ', mean_absolute_error(y_pred_train_best, y_train))"
   ]
  },
  {
   "cell_type": "code",
   "execution_count": 34,
   "metadata": {},
   "outputs": [
    {
     "data": {
      "text/plain": [
       "0.5686369174627277"
      ]
     },
     "execution_count": 34,
     "metadata": {},
     "output_type": "execute_result"
    }
   ],
   "source": [
    "grid.best_score_"
   ]
  },
  {
   "cell_type": "markdown",
   "metadata": {},
   "source": [
    "Plotting"
   ]
  },
  {
   "cell_type": "code",
   "execution_count": 43,
   "metadata": {},
   "outputs": [],
   "source": [
    "from sklearn.model_selection import cross_val_score, cross_val_predict"
   ]
  },
  {
   "cell_type": "code",
   "execution_count": 47,
   "metadata": {},
   "outputs": [],
   "source": [
    "mae_test = []\n",
    "mae_train = []\n",
    "\n",
    "for i in np.arange(10,1001,10):\n",
    "    tree = DecisionTreeRegressor(max_depth=2)\n",
    "    boost = AdaBoostRegressor(base_estimator = tree, \n",
    "                              learning_rate = 0.2, \n",
    "                             loss = 'linear',\n",
    "                             n_estimators = i)\n",
    "    boost.fit(X_train, y_train)\n",
    "    \n",
    "    mae_train.append(np.mean(-cross_val_score(boost, \n",
    "                                             X_train, y_train, \n",
    "                                             cv = 5, \n",
    "                                             scoring='neg_mean_absolute_error',\n",
    "                                             n_jobs = -1)))\n",
    "    \n",
    "    mae_test.append(np.mean(cross_val_predict(boost, \n",
    "                                        X_test, y_test, \n",
    "                                        cv = 5,\n",
    "                                        n_jobs = -1)))"
   ]
  },
  {
   "cell_type": "code",
   "execution_count": 48,
   "metadata": {},
   "outputs": [
    {
     "data": {
      "image/png": "[encoded data removed]",
      "text/plain": [
       "<Figure size 432x288 with 1 Axes>"
      ]
     },
     "metadata": {
      "needs_background": "light"
     },
     "output_type": "display_data"
    }
   ],
   "source": [
    "plt.plot(np.arange(10,1001,10), mae_train)\n",
    "plt.plot(np.arange(10,1001,10), mae_test, c = 'red')\n",
    "plt.show()"
   ]
  },
  {
   "cell_type": "markdown",
   "metadata": {},
   "source": []
  },
  {
   "cell_type": "code",
   "execution_count": 49,
   "metadata": {},
   "outputs": [],
   "source": [
    "mae_test = []\n",
    "mae_train = []\n",
    "\n",
    "for i in np.arange(10,1001,10):\n",
    "    tree = DecisionTreeRegressor(max_depth=1)\n",
    "    boost = AdaBoostRegressor(base_estimator = tree, \n",
    "                              learning_rate = 0.2, \n",
    "                             loss = 'linear',\n",
    "                             n_estimators = i)\n",
    "    boost.fit(X_train, y_train)\n",
    "    \n",
    "    mae_train.append(np.mean(-cross_val_score(boost, \n",
    "                                             X_train, y_train, \n",
    "                                             cv = 5, \n",
    "                                             scoring='neg_mean_absolute_error',\n",
    "                                             n_jobs = -1)))\n",
    "    \n",
    "    mae_test.append(np.mean(cross_val_predict(boost, \n",
    "                                        X_test, y_test, \n",
    "                                        cv = 5,\n",
    "                                        n_jobs = -1)))"
   ]
  },
  {
   "cell_type": "code",
   "execution_count": 50,
   "metadata": {},
   "outputs": [
    {
     "data": {
      "image/png": "[encoded data removed]",
      "text/plain": [
       "<Figure size 432x288 with 1 Axes>"
      ]
     },
     "metadata": {
      "needs_background": "light"
     },
     "output_type": "display_data"
    }
   ],
   "source": [
    "plt.plot(np.arange(10,1001,10), mae_train)\n",
    "plt.plot(np.arange(10,1001,10), mae_test, c = 'red')\n",
    "plt.show()"
   ]
  },
  {
   "cell_type": "code",
   "execution_count": 53,
   "metadata": {},
   "outputs": [],
   "source": [
    "mae_test = []\n",
    "mae_train = []\n",
    "\n",
    "for i in np.arange(10,1001,10):\n",
    "    tree = DecisionTreeRegressor(max_depth=3)\n",
    "    boost = AdaBoostRegressor(base_estimator = tree, \n",
    "                              learning_rate = 0.2, \n",
    "                             loss = 'linear',\n",
    "                             n_estimators = i)\n",
    "    boost.fit(X_train, y_train)\n",
    "    \n",
    "    mae_train.append(np.mean(-cross_val_score(boost, \n",
    "                                             X_train, y_train, \n",
    "                                             cv = 5, \n",
    "                                             scoring='neg_mean_absolute_error',\n",
    "                                             n_jobs = -1)))\n",
    "    \n",
    "    boost.fit(X_train, y_train)\n",
    "    mae_test.append(np.mean(cross_val_predict(boost, \n",
    "                                        X_test, y_test, \n",
    "                                        cv = 5,\n",
    "                                        n_jobs = -1)))"
   ]
  },
  {
   "cell_type": "code",
   "execution_count": 54,
   "metadata": {},
   "outputs": [
    {
     "data": {
      "image/png": "[encoded data removed]",
      "text/plain": [
       "<Figure size 432x288 with 1 Axes>"
      ]
     },
     "metadata": {
      "needs_background": "light"
     },
     "output_type": "display_data"
    }
   ],
   "source": [
    "plt.plot(np.arange(10,1001,10), mae_train)\n",
    "plt.plot(np.arange(10,1001,10), mae_test, c = 'red')\n",
    "plt.show()"
   ]
  },
  {
   "cell_type": "code",
   "execution_count": null,
   "metadata": {},
   "outputs": [],
   "source": []
  }
 ],
 "metadata": {
  "kernelspec": {
   "display_name": "Python 3",
   "language": "python",
   "name": "python3"
  },
  "language_info": {
   "codemirror_mode": {
    "name": "ipython",
    "version": 3
   },
   "file_extension": ".py",
   "mimetype": "text/x-python",
   "name": "python",
   "nbconvert_exporter": "python",
   "pygments_lexer": "ipython3",
   "version": "3.5.6"
  }
 },
 "nbformat": 4,
 "nbformat_minor": 2
}
